{
  "nbformat": 4,
  "nbformat_minor": 0,
  "metadata": {
    "colab": {
      "provenance": []
    },
    "kernelspec": {
      "name": "python3",
      "display_name": "Python 3"
    },
    "language_info": {
      "name": "python"
    }
  },
  "cells": [
    {
      "cell_type": "code",
      "source": [
        "import pandas as pd\n",
        "import numpy as np\n",
        "import matplotlib.pyplot as plt\n",
        "import seaborn as sns"
      ],
      "metadata": {
        "id": "lp1HP03MSd1J"
      },
      "execution_count": 1,
      "outputs": []
    },
    {
      "cell_type": "code",
      "source": [
        "# Load the data\n",
        "df = pd.read_csv('Flip_Data.csv')"
      ],
      "metadata": {
        "id": "9wIYDb5oSgtR"
      },
      "execution_count": 2,
      "outputs": []
    },
    {
      "cell_type": "code",
      "source": [
        "df.head()"
      ],
      "metadata": {
        "colab": {
          "base_uri": "https://localhost:8080/",
          "height": 397
        },
        "id": "CJyQ2CypSngh",
        "outputId": "d4334e6f-102c-4797-ebc6-96a37e392cbf"
      },
      "execution_count": 4,
      "outputs": [
        {
          "output_type": "execute_result",
          "data": {
            "text/plain": [
              "                                        Product Name   Price  Rating  \\\n",
              "0  XIAOMI X Pro CineMagiQLED 108 cm (43 inch) QLE...  31,999     3.3   \n",
              "1  LG UR7500 108 cm (43 inch) Ultra HD (4K) LED S...  30,990     4.4   \n",
              "2  iFFALCON by TCL U64 126 cm (50 inch) Ultra HD ...  22,999     4.2   \n",
              "3  acerpure by Acer Elevate Tv 108 cm (43 inch) Q...  19,999     4.2   \n",
              "4  LG UR75 126 cm (50 inch) Ultra HD (4K) LED Sma...  38,990     4.4   \n",
              "\n",
              "                        Reviews               Supported Apps  \\\n",
              "0          31 Ratings&1 Reviews  Operating System: Google TV   \n",
              "1  20,210 Ratings&1,530 Reviews      Operating System: WebOS   \n",
              "2  77,110 Ratings&8,362 Reviews  Operating System: Google TV   \n",
              "3     1,108 Ratings&187 Reviews  Operating System: Google TV   \n",
              "4  20,210 Ratings&1,530 Reviews      Operating System: WebOS   \n",
              "\n",
              "                   Operating System         Resolution  \\\n",
              "0  Ultra HD (4K) 3840 x 2160 Pixels  Launch Year: 2025   \n",
              "1  Ultra HD (4K) 3840 x 2160 Pixels  Launch Year: 2023   \n",
              "2  Ultra HD (4K) 3840 x 2160 Pixels  Launch Year: 2024   \n",
              "3  Ultra HD (4K) 3840 x 2160 Pixels  Launch Year: 2024   \n",
              "4  Ultra HD (4K) 3840 x 2160 Pixels  Launch Year: 2025   \n",
              "\n",
              "                                        Sound System  \n",
              "0                      2 year comprehensive warranty  \n",
              "1  1 Year Standard Warranty on the Product from t...  \n",
              "2                         1 Year Warranty on Product  \n",
              "3                                    1 Year Warranty  \n",
              "4  1 Year Warranty from the date of purchase (T&C...  "
            ],
            "text/html": [
              "\n",
              "  <div id=\"df-8dca2d45-4b20-4cf1-992a-04f4d1d9693f\" class=\"colab-df-container\">\n",
              "    <div>\n",
              "<style scoped>\n",
              "    .dataframe tbody tr th:only-of-type {\n",
              "        vertical-align: middle;\n",
              "    }\n",
              "\n",
              "    .dataframe tbody tr th {\n",
              "        vertical-align: top;\n",
              "    }\n",
              "\n",
              "    .dataframe thead th {\n",
              "        text-align: right;\n",
              "    }\n",
              "</style>\n",
              "<table border=\"1\" class=\"dataframe\">\n",
              "  <thead>\n",
              "    <tr style=\"text-align: right;\">\n",
              "      <th></th>\n",
              "      <th>Product Name</th>\n",
              "      <th>Price</th>\n",
              "      <th>Rating</th>\n",
              "      <th>Reviews</th>\n",
              "      <th>Supported Apps</th>\n",
              "      <th>Operating System</th>\n",
              "      <th>Resolution</th>\n",
              "      <th>Sound System</th>\n",
              "    </tr>\n",
              "  </thead>\n",
              "  <tbody>\n",
              "    <tr>\n",
              "      <th>0</th>\n",
              "      <td>XIAOMI X Pro CineMagiQLED 108 cm (43 inch) QLE...</td>\n",
              "      <td>31,999</td>\n",
              "      <td>3.3</td>\n",
              "      <td>31 Ratings&amp;1 Reviews</td>\n",
              "      <td>Operating System: Google TV</td>\n",
              "      <td>Ultra HD (4K) 3840 x 2160 Pixels</td>\n",
              "      <td>Launch Year: 2025</td>\n",
              "      <td>2 year comprehensive warranty</td>\n",
              "    </tr>\n",
              "    <tr>\n",
              "      <th>1</th>\n",
              "      <td>LG UR7500 108 cm (43 inch) Ultra HD (4K) LED S...</td>\n",
              "      <td>30,990</td>\n",
              "      <td>4.4</td>\n",
              "      <td>20,210 Ratings&amp;1,530 Reviews</td>\n",
              "      <td>Operating System: WebOS</td>\n",
              "      <td>Ultra HD (4K) 3840 x 2160 Pixels</td>\n",
              "      <td>Launch Year: 2023</td>\n",
              "      <td>1 Year Standard Warranty on the Product from t...</td>\n",
              "    </tr>\n",
              "    <tr>\n",
              "      <th>2</th>\n",
              "      <td>iFFALCON by TCL U64 126 cm (50 inch) Ultra HD ...</td>\n",
              "      <td>22,999</td>\n",
              "      <td>4.2</td>\n",
              "      <td>77,110 Ratings&amp;8,362 Reviews</td>\n",
              "      <td>Operating System: Google TV</td>\n",
              "      <td>Ultra HD (4K) 3840 x 2160 Pixels</td>\n",
              "      <td>Launch Year: 2024</td>\n",
              "      <td>1 Year Warranty on Product</td>\n",
              "    </tr>\n",
              "    <tr>\n",
              "      <th>3</th>\n",
              "      <td>acerpure by Acer Elevate Tv 108 cm (43 inch) Q...</td>\n",
              "      <td>19,999</td>\n",
              "      <td>4.2</td>\n",
              "      <td>1,108 Ratings&amp;187 Reviews</td>\n",
              "      <td>Operating System: Google TV</td>\n",
              "      <td>Ultra HD (4K) 3840 x 2160 Pixels</td>\n",
              "      <td>Launch Year: 2024</td>\n",
              "      <td>1 Year Warranty</td>\n",
              "    </tr>\n",
              "    <tr>\n",
              "      <th>4</th>\n",
              "      <td>LG UR75 126 cm (50 inch) Ultra HD (4K) LED Sma...</td>\n",
              "      <td>38,990</td>\n",
              "      <td>4.4</td>\n",
              "      <td>20,210 Ratings&amp;1,530 Reviews</td>\n",
              "      <td>Operating System: WebOS</td>\n",
              "      <td>Ultra HD (4K) 3840 x 2160 Pixels</td>\n",
              "      <td>Launch Year: 2025</td>\n",
              "      <td>1 Year Warranty from the date of purchase (T&amp;C...</td>\n",
              "    </tr>\n",
              "  </tbody>\n",
              "</table>\n",
              "</div>\n",
              "    <div class=\"colab-df-buttons\">\n",
              "\n",
              "  <div class=\"colab-df-container\">\n",
              "    <button class=\"colab-df-convert\" onclick=\"convertToInteractive('df-8dca2d45-4b20-4cf1-992a-04f4d1d9693f')\"\n",
              "            title=\"Convert this dataframe to an interactive table.\"\n",
              "            style=\"display:none;\">\n",
              "\n",
              "  <svg xmlns=\"http://www.w3.org/2000/svg\" height=\"24px\" viewBox=\"0 -960 960 960\">\n",
              "    <path d=\"M120-120v-720h720v720H120Zm60-500h600v-160H180v160Zm220 220h160v-160H400v160Zm0 220h160v-160H400v160ZM180-400h160v-160H180v160Zm440 0h160v-160H620v160ZM180-180h160v-160H180v160Zm440 0h160v-160H620v160Z\"/>\n",
              "  </svg>\n",
              "    </button>\n",
              "\n",
              "  <style>\n",
              "    .colab-df-container {\n",
              "      display:flex;\n",
              "      gap: 12px;\n",
              "    }\n",
              "\n",
              "    .colab-df-convert {\n",
              "      background-color: #E8F0FE;\n",
              "      border: none;\n",
              "      border-radius: 50%;\n",
              "      cursor: pointer;\n",
              "      display: none;\n",
              "      fill: #1967D2;\n",
              "      height: 32px;\n",
              "      padding: 0 0 0 0;\n",
              "      width: 32px;\n",
              "    }\n",
              "\n",
              "    .colab-df-convert:hover {\n",
              "      background-color: #E2EBFA;\n",
              "      box-shadow: 0px 1px 2px rgba(60, 64, 67, 0.3), 0px 1px 3px 1px rgba(60, 64, 67, 0.15);\n",
              "      fill: #174EA6;\n",
              "    }\n",
              "\n",
              "    .colab-df-buttons div {\n",
              "      margin-bottom: 4px;\n",
              "    }\n",
              "\n",
              "    [theme=dark] .colab-df-convert {\n",
              "      background-color: #3B4455;\n",
              "      fill: #D2E3FC;\n",
              "    }\n",
              "\n",
              "    [theme=dark] .colab-df-convert:hover {\n",
              "      background-color: #434B5C;\n",
              "      box-shadow: 0px 1px 3px 1px rgba(0, 0, 0, 0.15);\n",
              "      filter: drop-shadow(0px 1px 2px rgba(0, 0, 0, 0.3));\n",
              "      fill: #FFFFFF;\n",
              "    }\n",
              "  </style>\n",
              "\n",
              "    <script>\n",
              "      const buttonEl =\n",
              "        document.querySelector('#df-8dca2d45-4b20-4cf1-992a-04f4d1d9693f button.colab-df-convert');\n",
              "      buttonEl.style.display =\n",
              "        google.colab.kernel.accessAllowed ? 'block' : 'none';\n",
              "\n",
              "      async function convertToInteractive(key) {\n",
              "        const element = document.querySelector('#df-8dca2d45-4b20-4cf1-992a-04f4d1d9693f');\n",
              "        const dataTable =\n",
              "          await google.colab.kernel.invokeFunction('convertToInteractive',\n",
              "                                                    [key], {});\n",
              "        if (!dataTable) return;\n",
              "\n",
              "        const docLinkHtml = 'Like what you see? Visit the ' +\n",
              "          '<a target=\"_blank\" href=https://colab.research.google.com/notebooks/data_table.ipynb>data table notebook</a>'\n",
              "          + ' to learn more about interactive tables.';\n",
              "        element.innerHTML = '';\n",
              "        dataTable['output_type'] = 'display_data';\n",
              "        await google.colab.output.renderOutput(dataTable, element);\n",
              "        const docLink = document.createElement('div');\n",
              "        docLink.innerHTML = docLinkHtml;\n",
              "        element.appendChild(docLink);\n",
              "      }\n",
              "    </script>\n",
              "  </div>\n",
              "\n",
              "\n",
              "<div id=\"df-edd498b1-a2b3-4c02-a6ba-b567284b98d3\">\n",
              "  <button class=\"colab-df-quickchart\" onclick=\"quickchart('df-edd498b1-a2b3-4c02-a6ba-b567284b98d3')\"\n",
              "            title=\"Suggest charts\"\n",
              "            style=\"display:none;\">\n",
              "\n",
              "<svg xmlns=\"http://www.w3.org/2000/svg\" height=\"24px\"viewBox=\"0 0 24 24\"\n",
              "     width=\"24px\">\n",
              "    <g>\n",
              "        <path d=\"M19 3H5c-1.1 0-2 .9-2 2v14c0 1.1.9 2 2 2h14c1.1 0 2-.9 2-2V5c0-1.1-.9-2-2-2zM9 17H7v-7h2v7zm4 0h-2V7h2v10zm4 0h-2v-4h2v4z\"/>\n",
              "    </g>\n",
              "</svg>\n",
              "  </button>\n",
              "\n",
              "<style>\n",
              "  .colab-df-quickchart {\n",
              "      --bg-color: #E8F0FE;\n",
              "      --fill-color: #1967D2;\n",
              "      --hover-bg-color: #E2EBFA;\n",
              "      --hover-fill-color: #174EA6;\n",
              "      --disabled-fill-color: #AAA;\n",
              "      --disabled-bg-color: #DDD;\n",
              "  }\n",
              "\n",
              "  [theme=dark] .colab-df-quickchart {\n",
              "      --bg-color: #3B4455;\n",
              "      --fill-color: #D2E3FC;\n",
              "      --hover-bg-color: #434B5C;\n",
              "      --hover-fill-color: #FFFFFF;\n",
              "      --disabled-bg-color: #3B4455;\n",
              "      --disabled-fill-color: #666;\n",
              "  }\n",
              "\n",
              "  .colab-df-quickchart {\n",
              "    background-color: var(--bg-color);\n",
              "    border: none;\n",
              "    border-radius: 50%;\n",
              "    cursor: pointer;\n",
              "    display: none;\n",
              "    fill: var(--fill-color);\n",
              "    height: 32px;\n",
              "    padding: 0;\n",
              "    width: 32px;\n",
              "  }\n",
              "\n",
              "  .colab-df-quickchart:hover {\n",
              "    background-color: var(--hover-bg-color);\n",
              "    box-shadow: 0 1px 2px rgba(60, 64, 67, 0.3), 0 1px 3px 1px rgba(60, 64, 67, 0.15);\n",
              "    fill: var(--button-hover-fill-color);\n",
              "  }\n",
              "\n",
              "  .colab-df-quickchart-complete:disabled,\n",
              "  .colab-df-quickchart-complete:disabled:hover {\n",
              "    background-color: var(--disabled-bg-color);\n",
              "    fill: var(--disabled-fill-color);\n",
              "    box-shadow: none;\n",
              "  }\n",
              "\n",
              "  .colab-df-spinner {\n",
              "    border: 2px solid var(--fill-color);\n",
              "    border-color: transparent;\n",
              "    border-bottom-color: var(--fill-color);\n",
              "    animation:\n",
              "      spin 1s steps(1) infinite;\n",
              "  }\n",
              "\n",
              "  @keyframes spin {\n",
              "    0% {\n",
              "      border-color: transparent;\n",
              "      border-bottom-color: var(--fill-color);\n",
              "      border-left-color: var(--fill-color);\n",
              "    }\n",
              "    20% {\n",
              "      border-color: transparent;\n",
              "      border-left-color: var(--fill-color);\n",
              "      border-top-color: var(--fill-color);\n",
              "    }\n",
              "    30% {\n",
              "      border-color: transparent;\n",
              "      border-left-color: var(--fill-color);\n",
              "      border-top-color: var(--fill-color);\n",
              "      border-right-color: var(--fill-color);\n",
              "    }\n",
              "    40% {\n",
              "      border-color: transparent;\n",
              "      border-right-color: var(--fill-color);\n",
              "      border-top-color: var(--fill-color);\n",
              "    }\n",
              "    60% {\n",
              "      border-color: transparent;\n",
              "      border-right-color: var(--fill-color);\n",
              "    }\n",
              "    80% {\n",
              "      border-color: transparent;\n",
              "      border-right-color: var(--fill-color);\n",
              "      border-bottom-color: var(--fill-color);\n",
              "    }\n",
              "    90% {\n",
              "      border-color: transparent;\n",
              "      border-bottom-color: var(--fill-color);\n",
              "    }\n",
              "  }\n",
              "</style>\n",
              "\n",
              "  <script>\n",
              "    async function quickchart(key) {\n",
              "      const quickchartButtonEl =\n",
              "        document.querySelector('#' + key + ' button');\n",
              "      quickchartButtonEl.disabled = true;  // To prevent multiple clicks.\n",
              "      quickchartButtonEl.classList.add('colab-df-spinner');\n",
              "      try {\n",
              "        const charts = await google.colab.kernel.invokeFunction(\n",
              "            'suggestCharts', [key], {});\n",
              "      } catch (error) {\n",
              "        console.error('Error during call to suggestCharts:', error);\n",
              "      }\n",
              "      quickchartButtonEl.classList.remove('colab-df-spinner');\n",
              "      quickchartButtonEl.classList.add('colab-df-quickchart-complete');\n",
              "    }\n",
              "    (() => {\n",
              "      let quickchartButtonEl =\n",
              "        document.querySelector('#df-edd498b1-a2b3-4c02-a6ba-b567284b98d3 button');\n",
              "      quickchartButtonEl.style.display =\n",
              "        google.colab.kernel.accessAllowed ? 'block' : 'none';\n",
              "    })();\n",
              "  </script>\n",
              "</div>\n",
              "\n",
              "    </div>\n",
              "  </div>\n"
            ],
            "application/vnd.google.colaboratory.intrinsic+json": {
              "type": "dataframe",
              "variable_name": "df",
              "summary": "{\n  \"name\": \"df\",\n  \"rows\": 555,\n  \"fields\": [\n    {\n      \"column\": \"Product Name\",\n      \"properties\": {\n        \"dtype\": \"string\",\n        \"num_unique_values\": 288,\n        \"samples\": [\n          \"Blaupunkt 126 cm (50 Inch) QLED Ultra HD (4K) Smart Google TV with 60W Sound Output HDR 10 | Dolby Atm...\",\n          \"SAMSUNG New D Series Brighter Crystal 4K Vivid (2024 Edition) 163 cm (65 inch) Ultra HD (4K) LED Smart...\",\n          \"Acer 80 cm (32 inch) HD Ready LED Smart Android TV with Android TV | 1.5GB RAM | 16GB Storage\"\n        ],\n        \"semantic_type\": \"\",\n        \"description\": \"\"\n      }\n    },\n    {\n      \"column\": \"Price\",\n      \"properties\": {\n        \"dtype\": \"category\",\n        \"num_unique_values\": 194,\n        \"samples\": [\n          \"45,999\",\n          \"13,490\",\n          \"56,999\"\n        ],\n        \"semantic_type\": \"\",\n        \"description\": \"\"\n      }\n    },\n    {\n      \"column\": \"Rating\",\n      \"properties\": {\n        \"dtype\": \"number\",\n        \"std\": 0.3689061958167664,\n        \"min\": 2.7,\n        \"max\": 5.0,\n        \"num_unique_values\": 21,\n        \"samples\": [\n          3.3,\n          4.9,\n          5.0\n        ],\n        \"semantic_type\": \"\",\n        \"description\": \"\"\n      }\n    },\n    {\n      \"column\": \"Reviews\",\n      \"properties\": {\n        \"dtype\": \"category\",\n        \"num_unique_values\": 178,\n        \"samples\": [\n          \"9,246 Ratings&1,041 Reviews\",\n          \"6,946 Ratings&667 Reviews\",\n          \"13 Ratings&1 Reviews\"\n        ],\n        \"semantic_type\": \"\",\n        \"description\": \"\"\n      }\n    },\n    {\n      \"column\": \"Supported Apps\",\n      \"properties\": {\n        \"dtype\": \"category\",\n        \"num_unique_values\": 11,\n        \"samples\": [\n          \"Operating System: Tizen\",\n          \"Operating System: Google TV\",\n          \"Operating System: Android Based\"\n        ],\n        \"semantic_type\": \"\",\n        \"description\": \"\"\n      }\n    },\n    {\n      \"column\": \"Operating System\",\n      \"properties\": {\n        \"dtype\": \"category\",\n        \"num_unique_values\": 6,\n        \"samples\": [\n          \"Ultra HD (4K) 3840 x 2160 Pixels\",\n          \"HD Ready 1366 x 768 Pixels\",\n          \"HD Ready 1920 x 1080 Pixels\"\n        ],\n        \"semantic_type\": \"\",\n        \"description\": \"\"\n      }\n    },\n    {\n      \"column\": \"Resolution\",\n      \"properties\": {\n        \"dtype\": \"category\",\n        \"num_unique_values\": 10,\n        \"samples\": [\n          \"Launch Year: 2016\",\n          \"Launch Year: 2023\",\n          \"Launch Year: 2020\"\n        ],\n        \"semantic_type\": \"\",\n        \"description\": \"\"\n      }\n    },\n    {\n      \"column\": \"Sound System\",\n      \"properties\": {\n        \"dtype\": \"category\",\n        \"num_unique_values\": 81,\n        \"samples\": [\n          \"1 year Comprehensive Warranty on Product\",\n          \"2 year comprehensive warranty\",\n          \"1 Year Warranty on the Product\"\n        ],\n        \"semantic_type\": \"\",\n        \"description\": \"\"\n      }\n    }\n  ]\n}"
            }
          },
          "metadata": {},
          "execution_count": 4
        }
      ]
    },
    {
      "cell_type": "code",
      "source": [
        "print(df.head())"
      ],
      "metadata": {
        "colab": {
          "base_uri": "https://localhost:8080/"
        },
        "id": "spQTtbNcSjm5",
        "outputId": "e5d4cce8-4184-4e19-bf88-2089043a78e5"
      },
      "execution_count": 3,
      "outputs": [
        {
          "output_type": "stream",
          "name": "stdout",
          "text": [
            "                                        Product Name   Price  Rating  \\\n",
            "0  XIAOMI X Pro CineMagiQLED 108 cm (43 inch) QLE...  31,999     3.3   \n",
            "1  LG UR7500 108 cm (43 inch) Ultra HD (4K) LED S...  30,990     4.4   \n",
            "2  iFFALCON by TCL U64 126 cm (50 inch) Ultra HD ...  22,999     4.2   \n",
            "3  acerpure by Acer Elevate Tv 108 cm (43 inch) Q...  19,999     4.2   \n",
            "4  LG UR75 126 cm (50 inch) Ultra HD (4K) LED Sma...  38,990     4.4   \n",
            "\n",
            "                        Reviews               Supported Apps  \\\n",
            "0          31 Ratings&1 Reviews  Operating System: Google TV   \n",
            "1  20,210 Ratings&1,530 Reviews      Operating System: WebOS   \n",
            "2  77,110 Ratings&8,362 Reviews  Operating System: Google TV   \n",
            "3     1,108 Ratings&187 Reviews  Operating System: Google TV   \n",
            "4  20,210 Ratings&1,530 Reviews      Operating System: WebOS   \n",
            "\n",
            "                   Operating System         Resolution  \\\n",
            "0  Ultra HD (4K) 3840 x 2160 Pixels  Launch Year: 2025   \n",
            "1  Ultra HD (4K) 3840 x 2160 Pixels  Launch Year: 2023   \n",
            "2  Ultra HD (4K) 3840 x 2160 Pixels  Launch Year: 2024   \n",
            "3  Ultra HD (4K) 3840 x 2160 Pixels  Launch Year: 2024   \n",
            "4  Ultra HD (4K) 3840 x 2160 Pixels  Launch Year: 2025   \n",
            "\n",
            "                                        Sound System  \n",
            "0                      2 year comprehensive warranty  \n",
            "1  1 Year Standard Warranty on the Product from t...  \n",
            "2                         1 Year Warranty on Product  \n",
            "3                                    1 Year Warranty  \n",
            "4  1 Year Warranty from the date of purchase (T&C...  \n"
          ]
        }
      ]
    },
    {
      "cell_type": "code",
      "source": [
        "print(df.info())"
      ],
      "metadata": {
        "colab": {
          "base_uri": "https://localhost:8080/"
        },
        "id": "CjDCi2fOSrm6",
        "outputId": "665ecc33-a2e8-4f93-9e50-4b58b1acb9a8"
      },
      "execution_count": 5,
      "outputs": [
        {
          "output_type": "stream",
          "name": "stdout",
          "text": [
            "<class 'pandas.core.frame.DataFrame'>\n",
            "RangeIndex: 555 entries, 0 to 554\n",
            "Data columns (total 8 columns):\n",
            " #   Column            Non-Null Count  Dtype  \n",
            "---  ------            --------------  -----  \n",
            " 0   Product Name      555 non-null    object \n",
            " 1   Price             555 non-null    object \n",
            " 2   Rating            555 non-null    float64\n",
            " 3   Reviews           555 non-null    object \n",
            " 4   Supported Apps    555 non-null    object \n",
            " 5   Operating System  555 non-null    object \n",
            " 6   Resolution        555 non-null    object \n",
            " 7   Sound System      548 non-null    object \n",
            "dtypes: float64(1), object(7)\n",
            "memory usage: 34.8+ KB\n",
            "None\n"
          ]
        }
      ]
    },
    {
      "cell_type": "code",
      "source": [
        "print(df.describe())"
      ],
      "metadata": {
        "colab": {
          "base_uri": "https://localhost:8080/"
        },
        "id": "FJ9PahwlSu9D",
        "outputId": "cbf56755-991a-4253-d4c3-d69fb5540c26"
      },
      "execution_count": 6,
      "outputs": [
        {
          "output_type": "stream",
          "name": "stdout",
          "text": [
            "           Rating\n",
            "count  555.000000\n",
            "mean     4.138559\n",
            "std      0.368906\n",
            "min      2.700000\n",
            "25%      4.000000\n",
            "50%      4.300000\n",
            "75%      4.400000\n",
            "max      5.000000\n"
          ]
        }
      ]
    },
    {
      "cell_type": "markdown",
      "source": [
        "### Handle Missing Values"
      ],
      "metadata": {
        "id": "OgCogzKcS1Pr"
      }
    },
    {
      "cell_type": "code",
      "source": [
        "print(df.isnull().sum())"
      ],
      "metadata": {
        "colab": {
          "base_uri": "https://localhost:8080/"
        },
        "id": "A54uR8_NS2eT",
        "outputId": "ffa79cb4-3a20-4c87-9505-47f790bd308b"
      },
      "execution_count": 7,
      "outputs": [
        {
          "output_type": "stream",
          "name": "stdout",
          "text": [
            "Product Name        0\n",
            "Price               0\n",
            "Rating              0\n",
            "Reviews             0\n",
            "Supported Apps      0\n",
            "Operating System    0\n",
            "Resolution          0\n",
            "Sound System        7\n",
            "dtype: int64\n"
          ]
        }
      ]
    },
    {
      "cell_type": "code",
      "source": [
        "print(f\"Number of duplicates: {df.duplicated().sum()}\")"
      ],
      "metadata": {
        "colab": {
          "base_uri": "https://localhost:8080/"
        },
        "id": "XnuwXCzVS7OU",
        "outputId": "abcda526-d7d4-46f6-b429-87ba64974cb9"
      },
      "execution_count": 8,
      "outputs": [
        {
          "output_type": "stream",
          "name": "stdout",
          "text": [
            "Number of duplicates: 258\n"
          ]
        }
      ]
    },
    {
      "cell_type": "code",
      "source": [
        "# Remove duplicates\n",
        "df = df.drop_duplicates()"
      ],
      "metadata": {
        "id": "WLtLDQu3S-A1"
      },
      "execution_count": 9,
      "outputs": []
    },
    {
      "cell_type": "markdown",
      "source": [
        "# Price Standardization"
      ],
      "metadata": {
        "id": "F-UG-9YsTIKO"
      }
    },
    {
      "cell_type": "code",
      "source": [],
      "metadata": {
        "id": "A444H3bJTKMV"
      },
      "execution_count": null,
      "outputs": []
    },
    {
      "cell_type": "code",
      "source": [
        "# Convert Price to numeric (remove commas and convert to float)\n",
        "df['Price'] = df['Price'].str.replace(',', '').astype(float)\n",
        "\n",
        "# Create price categories if needed\n",
        "df['Price_Category'] = pd.cut(df['Price'],\n",
        "                             bins=[0, 10000, 20000, 30000, 50000, 100000, float('inf')],\n",
        "                             labels=['<10k', '10k-20k', '20k-30k', '30k-50k', '50k-100k', '>100k'])"
      ],
      "metadata": {
        "id": "Vk5IhALHTLw9"
      },
      "execution_count": 11,
      "outputs": []
    },
    {
      "cell_type": "code",
      "source": [
        "# Ensure Rating is numeric\n",
        "df['Rating'] = pd.to_numeric(df['Rating'], errors='coerce')\n",
        "\n",
        "# Handle any missing ratings (if they exist)\n",
        "df['Rating'].fillna(df['Rating'].mean(), inplace=True)"
      ],
      "metadata": {
        "colab": {
          "base_uri": "https://localhost:8080/"
        },
        "collapsed": true,
        "id": "eWRAijkyTPtF",
        "outputId": "13d952c4-ddee-486e-8cb9-dfe072813e12"
      },
      "execution_count": 12,
      "outputs": [
        {
          "output_type": "stream",
          "name": "stderr",
          "text": [
            "<ipython-input-12-8d335e3341fa>:5: FutureWarning: A value is trying to be set on a copy of a DataFrame or Series through chained assignment using an inplace method.\n",
            "The behavior will change in pandas 3.0. This inplace method will never work because the intermediate object on which we are setting values always behaves as a copy.\n",
            "\n",
            "For example, when doing 'df[col].method(value, inplace=True)', try using 'df.method({col: value}, inplace=True)' or df[col] = df[col].method(value) instead, to perform the operation inplace on the original object.\n",
            "\n",
            "\n",
            "  df['Rating'].fillna(df['Rating'].mean(), inplace=True)\n"
          ]
        }
      ]
    },
    {
      "cell_type": "code",
      "source": [
        "# Extract screen size in cm from Product Name\n",
        "df['Screen_Size_cm'] = df['Product Name'].str.extract(r'(\\d+\\.?\\d*)\\s?cm').astype(float)\n",
        "\n",
        "# Convert to inches (1 inch = 2.54 cm)\n",
        "df['Screen_Size_inches'] = df['Screen_Size_cm'] / 2.54\n",
        "\n",
        "# Create size categories\n",
        "df['Size_Category'] = pd.cut(df['Screen_Size_inches'],\n",
        "                            bins=[0, 32, 43, 50, 55, 65, 75, float('inf')],\n",
        "                            labels=['Small (<32\")', 'Medium (32-43\")', 'Large (43-50\")',\n",
        "                                    'X-Large (50-55\")', 'XX-Large (55-65\")',\n",
        "                                    'Giant (65-75\")', 'Massive (>75\")'])"
      ],
      "metadata": {
        "id": "aFH24RLbTTAO"
      },
      "execution_count": 13,
      "outputs": []
    },
    {
      "cell_type": "code",
      "source": [
        "# Standardize operating system names\n",
        "df['Operating System'] = df['Operating System'].str.strip()\n",
        "df['Operating System'] = df['Operating System'].replace({\n",
        "    'FireTv OS 7': 'Fire OS',\n",
        "    'Coolita': 'Coolita OS',\n",
        "    'VIDAA': 'Vidaa OS',\n",
        "    'Dor OS': 'DorOS',\n",
        "    'Android Based': 'Android',\n",
        "    'Linux based': 'Linux'\n",
        "})\n",
        "\n",
        "# Extract main OS categories\n",
        "df['OS_Type'] = df['Operating System'].apply(lambda x: 'Other' if x not in ['Android', 'Google TV', 'WebOS', 'Tizen'] else x)"
      ],
      "metadata": {
        "id": "CQaFiT2QTVv-"
      },
      "execution_count": 14,
      "outputs": []
    },
    {
      "cell_type": "code",
      "source": [
        "# Standardize resolution values\n",
        "df['Resolution'] = df['Resolution'].str.replace('Pixels', '').str.strip()\n",
        "df['Resolution_Type'] = df['Resolution'].str.extract(r'(HD Ready|Full HD|Ultra HD \\(4K\\))')[0]"
      ],
      "metadata": {
        "id": "lqQNwjhmTXkm"
      },
      "execution_count": 15,
      "outputs": []
    },
    {
      "cell_type": "markdown",
      "source": [
        "### Exploratory Data Analysis (EDA)"
      ],
      "metadata": {
        "id": "I1jPYQ_KTZqf"
      }
    },
    {
      "cell_type": "code",
      "source": [
        "print(df[['Price', 'Rating', 'Screen_Size_cm']].describe())"
      ],
      "metadata": {
        "colab": {
          "base_uri": "https://localhost:8080/"
        },
        "id": "JNPqXuNYThw4",
        "outputId": "671cd9c0-7591-46e1-efdf-f3a537e6feb1"
      },
      "execution_count": 17,
      "outputs": [
        {
          "output_type": "stream",
          "name": "stdout",
          "text": [
            "               Price      Rating  Screen_Size_cm\n",
            "count     297.000000  297.000000      294.000000\n",
            "mean    36536.892256    4.187205      117.447211\n",
            "std     34185.234941    0.325760       31.738985\n",
            "min      5799.000000    2.700000       60.000000\n",
            "25%     15499.000000    4.100000       81.070000\n",
            "50%     26999.000000    4.200000      109.000000\n",
            "75%     42999.000000    4.300000      139.000000\n",
            "max    251099.000000    5.000000      215.000000\n"
          ]
        }
      ]
    },
    {
      "cell_type": "markdown",
      "source": [
        "# Price Distribution"
      ],
      "metadata": {
        "id": "uZzeZ4QRTrFo"
      }
    },
    {
      "cell_type": "code",
      "source": [
        "plt.figure(figsize=(12, 6))\n",
        "sns.histplot(df['Price'], bins=50, kde=True)\n",
        "plt.title('Price Distribution of TVs')\n",
        "plt.xlabel('Price (₹)')\n",
        "plt.ylabel('Count')\n",
        "plt.show()"
      ],
      "metadata": {
        "colab": {
          "base_uri": "https://localhost:8080/",
          "height": 493
        },
        "id": "GGK_MlmCTkaY",
        "outputId": "fe7e542f-61cd-4417-858a-e6bece267301"
      },
      "execution_count": 18,
      "outputs": [
        {
          "output_type": "display_data",
          "data": {
            "text/plain": [
              "<Figure size 1200x600 with 1 Axes>"
            ],
            "image/png": "[encoded data removed]"
          },
          "metadata": {}
        }
      ]
    },
    {
      "cell_type": "markdown",
      "source": [
        "# Rating Distribution"
      ],
      "metadata": {
        "id": "bMrIKRYbTtbA"
      }
    },
    {
      "cell_type": "code",
      "source": [
        "plt.figure(figsize=(10, 5))\n",
        "sns.histplot(df['Rating'], bins=20, kde=True)\n",
        "plt.title('Rating Distribution')\n",
        "plt.xlabel('Rating (out of 5)')\n",
        "plt.show()"
      ],
      "metadata": {
        "colab": {
          "base_uri": "https://localhost:8080/",
          "height": 487
        },
        "id": "I1Pm-OOmTnER",
        "outputId": "409877e5-1d76-43bf-b3e6-80e501205b62"
      },
      "execution_count": 19,
      "outputs": [
        {
          "output_type": "display_data",
          "data": {
            "text/plain": [
              "<Figure size 1000x500 with 1 Axes>"
            ],
            "image/png": "[encoded data removed]"
          },
          "metadata": {}
        }
      ]
    },
    {
      "cell_type": "code",
      "source": [
        "plt.figure(figsize=(12, 6))\n",
        "sns.scatterplot(x='Price', y='Rating', data=df, hue='OS_Type')\n",
        "plt.title('Price vs. Rating by OS Type')\n",
        "plt.show()"
      ],
      "metadata": {
        "colab": {
          "base_uri": "https://localhost:8080/",
          "height": 491
        },
        "id": "iqrsMn71TviY",
        "outputId": "4073c16c-fb99-4d70-c01f-5fe9de232943"
      },
      "execution_count": 20,
      "outputs": [
        {
          "output_type": "display_data",
          "data": {
            "text/plain": [
              "<Figure size 1200x600 with 1 Axes>"
            ],
            "image/png": "[encoded data removed]"
          },
          "metadata": {}
        }
      ]
    },
    {
      "cell_type": "code",
      "source": [
        "plt.figure(figsize=(12, 6))\n",
        "sns.boxplot(x='Size_Category', y='Price', data=df)\n",
        "plt.title('Price Distribution by TV Size Category')\n",
        "plt.xticks(rotation=45)\n",
        "plt.show()"
      ],
      "metadata": {
        "colab": {
          "base_uri": "https://localhost:8080/",
          "height": 548
        },
        "id": "80IuOqz6T9dD",
        "outputId": "bcabc562-2287-424a-a04c-4b4b6227565d"
      },
      "execution_count": 23,
      "outputs": [
        {
          "output_type": "display_data",
          "data": {
            "text/plain": [
              "<Figure size 1200x600 with 1 Axes>"
            ],
            "image/png": "[encoded data removed]"
          },
          "metadata": {}
        }
      ]
    },
    {
      "cell_type": "code",
      "source": [
        "# Extract brand names from Product Name\n",
        "df['Brand'] = df['Product Name'].str.split().str[0]\n",
        "df['Brand'] = df['Brand'].replace({\n",
        "    'Mi': 'Xiaomi',\n",
        "    'REDMI': 'Xiaomi',\n",
        "    'realme': 'Realme',\n",
        "    'iFFALCON': 'TCL',\n",
        "    'Blaupunkt': 'Blaupunkt',\n",
        "    'Thomson': 'Thomson',\n",
        "    'LG': 'LG',\n",
        "    'SAMSUNG': 'Samsung',\n",
        "    'SONY': 'Sony',\n",
        "    'TOSHIBA': 'Toshiba',\n",
        "    'Hisense': 'Hisense',\n",
        "    'Panasonic': 'Panasonic',\n",
        "    'Acer': 'Acer',\n",
        "    'acerpure': 'Acer',\n",
        "    'TCL': 'TCL',\n",
        "    'InnoQ': 'InnoQ',\n",
        "    'Coocaa': 'Coocaa',\n",
        "    'KODAK': 'Kodak',\n",
        "    'MOTOROLA': 'Motorola',\n",
        "    'ONIDA': 'Onida',\n",
        "    'Haier': 'Haier',\n",
        "    'Vu': 'Vu',\n",
        "    'MarQ': 'MarQ',\n",
        "    'Compaq': 'Compaq',\n",
        "    'Daiwa': 'Daiwa',\n",
        "    'Foxsky': 'Foxsky',\n",
        "    'Sansui': 'Sansui',\n",
        "    'Infinix': 'Infinix',\n",
        "    'BPL': 'BPL',\n",
        "    'Hyundai': 'Hyundai',\n",
        "    'Lloyd': 'Lloyd',\n",
        "    'NU': 'NU',\n",
        "    'CANDY': 'Candy',\n",
        "    'IMPEX': 'Impex',\n",
        "    'LEEMA': 'Leema',\n",
        "    'IAIR': 'IAir',\n",
        "    'Nacson': 'Nacson',\n",
        "    'Aiwa': 'Aiwa',\n",
        "    'Micromax': 'Micromax',\n",
        "    'Samtonic': 'Samtonic',\n",
        "    'REALMERCURY': 'Realmercury',\n",
        "    'HUIDI': 'Huidi',\n",
        "    'OnePlus': 'OnePlus',\n",
        "    'Reliance': 'Reliance',\n",
        "    'XIAOMI': 'Xiaomi'\n",
        "})\n",
        "\n",
        "plt.figure(figsize=(14, 6))\n",
        "top_brands = df['Brand'].value_counts().head(15)\n",
        "top_brands.plot(kind='bar')\n",
        "plt.title('Top 15 TV Brands by Count')\n",
        "plt.xlabel('Brand')\n",
        "plt.ylabel('Count')\n",
        "plt.xticks(rotation=45)\n",
        "plt.show()"
      ],
      "metadata": {
        "colab": {
          "base_uri": "https://localhost:8080/",
          "height": 464
        },
        "id": "O09GsWSpUG1E",
        "outputId": "48d2aa46-c85e-4947-fdd2-c0a6208864ec"
      },
      "execution_count": 24,
      "outputs": [
        {
          "output_type": "display_data",
          "data": {
            "text/plain": [
              "<Figure size 1400x600 with 1 Axes>"
            ],
            "image/png": "[encoded data removed]"
          },
          "metadata": {}
        }
      ]
    },
    {
      "cell_type": "code",
      "source": [
        "plt.figure(figsize=(14, 6))\n",
        "df.groupby('Brand')['Price'].mean().sort_values(ascending=False).head(15).plot(kind='bar')\n",
        "plt.title('Average Price by Brand (Top 15)')\n",
        "plt.xlabel('Brand')\n",
        "plt.ylabel('Average Price (₹)')\n",
        "plt.xticks(rotation=45)\n",
        "plt.show()"
      ],
      "metadata": {
        "colab": {
          "base_uri": "https://localhost:8080/",
          "height": 450
        },
        "id": "AGsgnjIEUOzs",
        "outputId": "1550eb39-e940-4284-98dd-2298b6e74f2f"
      },
      "execution_count": 25,
      "outputs": [
        {
          "output_type": "display_data",
          "data": {
            "text/plain": [
              "<Figure size 1400x600 with 1 Axes>"
            ],
            "image/png": "[encoded data removed]"
          },
          "metadata": {}
        }
      ]
    },
    {
      "cell_type": "code",
      "source": [
        "# Select numerical columns for correlation\n",
        "numerical_cols = ['Price', 'Rating', 'Screen_Size_cm']\n",
        "corr_matrix = df[numerical_cols].corr()\n",
        "\n",
        "plt.figure(figsize=(8, 6))\n",
        "sns.heatmap(corr_matrix, annot=True, cmap='coolwarm', center=0)\n",
        "plt.title('Correlation Matrix')\n",
        "plt.show()"
      ],
      "metadata": {
        "colab": {
          "base_uri": "https://localhost:8080/",
          "height": 545
        },
        "id": "B-Ti5ogyUZ1V",
        "outputId": "e1ee3cd8-5d28-428b-d432-ed46d7165ea7"
      },
      "execution_count": 26,
      "outputs": [
        {
          "output_type": "display_data",
          "data": {
            "text/plain": [
              "<Figure size 800x600 with 2 Axes>"
            ],
            "image/png": "[encoded data removed]"
          },
          "metadata": {}
        }
      ]
    },
    {
      "cell_type": "code",
      "source": [
        "# Save cleaned data to a new CSV file\n",
        "df.to_csv('Cleaned_Flip_Data.csv', index=False)"
      ],
      "metadata": {
        "id": "OTnT6XBCUnq-"
      },
      "execution_count": 28,
      "outputs": []
    },
    {
      "cell_type": "code",
      "source": [
        "import pandas as pd\n",
        "import matplotlib.pyplot as plt\n",
        "import seaborn as sns\n",
        "from sklearn.cluster import KMeans\n",
        "from sklearn.preprocessing import StandardScaler\n"
      ],
      "metadata": {
        "id": "-Ji30-FeXdmb"
      },
      "execution_count": 29,
      "outputs": []
    },
    {
      "cell_type": "code",
      "source": [
        "# Load the cleaned data\n",
        "df = pd.read_csv('/content/Cleaned_Flip_Data.csv')\n",
        "df.head()\n"
      ],
      "metadata": {
        "colab": {
          "base_uri": "https://localhost:8080/",
          "height": 539
        },
        "id": "AOQz86V3Xgyi",
        "outputId": "9187b67c-0709-4707-fc10-f97fc7cc2824"
      },
      "execution_count": 30,
      "outputs": [
        {
          "output_type": "execute_result",
          "data": {
            "text/plain": [
              "                                        Product Name    Price  Rating  \\\n",
              "0  XIAOMI X Pro CineMagiQLED 108 cm (43 inch) QLE...  31999.0     3.3   \n",
              "1  LG UR7500 108 cm (43 inch) Ultra HD (4K) LED S...  30990.0     4.4   \n",
              "2  iFFALCON by TCL U64 126 cm (50 inch) Ultra HD ...  22999.0     4.2   \n",
              "3  acerpure by Acer Elevate Tv 108 cm (43 inch) Q...  19999.0     4.2   \n",
              "4  LG UR75 126 cm (50 inch) Ultra HD (4K) LED Sma...  38990.0     4.4   \n",
              "\n",
              "                        Reviews               Supported Apps  \\\n",
              "0          31 Ratings&1 Reviews  Operating System: Google TV   \n",
              "1  20,210 Ratings&1,530 Reviews      Operating System: WebOS   \n",
              "2  77,110 Ratings&8,362 Reviews  Operating System: Google TV   \n",
              "3     1,108 Ratings&187 Reviews  Operating System: Google TV   \n",
              "4  20,210 Ratings&1,530 Reviews      Operating System: WebOS   \n",
              "\n",
              "                   Operating System         Resolution  \\\n",
              "0  Ultra HD (4K) 3840 x 2160 Pixels  Launch Year: 2025   \n",
              "1  Ultra HD (4K) 3840 x 2160 Pixels  Launch Year: 2023   \n",
              "2  Ultra HD (4K) 3840 x 2160 Pixels  Launch Year: 2024   \n",
              "3  Ultra HD (4K) 3840 x 2160 Pixels  Launch Year: 2024   \n",
              "4  Ultra HD (4K) 3840 x 2160 Pixels  Launch Year: 2025   \n",
              "\n",
              "                                        Sound System Price_Category  \\\n",
              "0                      2 year comprehensive warranty        30k-50k   \n",
              "1  1 Year Standard Warranty on the Product from t...        30k-50k   \n",
              "2                         1 Year Warranty on Product        20k-30k   \n",
              "3                                    1 Year Warranty        10k-20k   \n",
              "4  1 Year Warranty from the date of purchase (T&C...        30k-50k   \n",
              "\n",
              "   Screen_Size_cm  Screen_Size_inches    Size_Category OS_Type  \\\n",
              "0           108.0           42.519685  Medium (32-43\")   Other   \n",
              "1           108.0           42.519685  Medium (32-43\")   Other   \n",
              "2           126.0           49.606299   Large (43-50\")   Other   \n",
              "3           108.0           42.519685  Medium (32-43\")   Other   \n",
              "4           126.0           49.606299   Large (43-50\")   Other   \n",
              "\n",
              "   Resolution_Type   Brand  \n",
              "0              NaN  Xiaomi  \n",
              "1              NaN      LG  \n",
              "2              NaN     TCL  \n",
              "3              NaN    Acer  \n",
              "4              NaN      LG  "
            ],
            "text/html": [
              "\n",
              "  <div id=\"df-4dc25132-38f4-4b70-8b6e-e7f4e2c37c86\" class=\"colab-df-container\">\n",
              "    <div>\n",
              "<style scoped>\n",
              "    .dataframe tbody tr th:only-of-type {\n",
              "        vertical-align: middle;\n",
              "    }\n",
              "\n",
              "    .dataframe tbody tr th {\n",
              "        vertical-align: top;\n",
              "    }\n",
              "\n",
              "    .dataframe thead th {\n",
              "        text-align: right;\n",
              "    }\n",
              "</style>\n",
              "<table border=\"1\" class=\"dataframe\">\n",
              "  <thead>\n",
              "    <tr style=\"text-align: right;\">\n",
              "      <th></th>\n",
              "      <th>Product Name</th>\n",
              "      <th>Price</th>\n",
              "      <th>Rating</th>\n",
              "      <th>Reviews</th>\n",
              "      <th>Supported Apps</th>\n",
              "      <th>Operating System</th>\n",
              "      <th>Resolution</th>\n",
              "      <th>Sound System</th>\n",
              "      <th>Price_Category</th>\n",
              "      <th>Screen_Size_cm</th>\n",
              "      <th>Screen_Size_inches</th>\n",
              "      <th>Size_Category</th>\n",
              "      <th>OS_Type</th>\n",
              "      <th>Resolution_Type</th>\n",
              "      <th>Brand</th>\n",
              "    </tr>\n",
              "  </thead>\n",
              "  <tbody>\n",
              "    <tr>\n",
              "      <th>0</th>\n",
              "      <td>XIAOMI X Pro CineMagiQLED 108 cm (43 inch) QLE...</td>\n",
              "      <td>31999.0</td>\n",
              "      <td>3.3</td>\n",
              "      <td>31 Ratings&amp;1 Reviews</td>\n",
              "      <td>Operating System: Google TV</td>\n",
              "      <td>Ultra HD (4K) 3840 x 2160 Pixels</td>\n",
              "      <td>Launch Year: 2025</td>\n",
              "      <td>2 year comprehensive warranty</td>\n",
              "      <td>30k-50k</td>\n",
              "      <td>108.0</td>\n",
              "      <td>42.519685</td>\n",
              "      <td>Medium (32-43\")</td>\n",
              "      <td>Other</td>\n",
              "      <td>NaN</td>\n",
              "      <td>Xiaomi</td>\n",
              "    </tr>\n",
              "    <tr>\n",
              "      <th>1</th>\n",
              "      <td>LG UR7500 108 cm (43 inch) Ultra HD (4K) LED S...</td>\n",
              "      <td>30990.0</td>\n",
              "      <td>4.4</td>\n",
              "      <td>20,210 Ratings&amp;1,530 Reviews</td>\n",
              "      <td>Operating System: WebOS</td>\n",
              "      <td>Ultra HD (4K) 3840 x 2160 Pixels</td>\n",
              "      <td>Launch Year: 2023</td>\n",
              "      <td>1 Year Standard Warranty on the Product from t...</td>\n",
              "      <td>30k-50k</td>\n",
              "      <td>108.0</td>\n",
              "      <td>42.519685</td>\n",
              "      <td>Medium (32-43\")</td>\n",
              "      <td>Other</td>\n",
              "      <td>NaN</td>\n",
              "      <td>LG</td>\n",
              "    </tr>\n",
              "    <tr>\n",
              "      <th>2</th>\n",
              "      <td>iFFALCON by TCL U64 126 cm (50 inch) Ultra HD ...</td>\n",
              "      <td>22999.0</td>\n",
              "      <td>4.2</td>\n",
              "      <td>77,110 Ratings&amp;8,362 Reviews</td>\n",
              "      <td>Operating System: Google TV</td>\n",
              "      <td>Ultra HD (4K) 3840 x 2160 Pixels</td>\n",
              "      <td>Launch Year: 2024</td>\n",
              "      <td>1 Year Warranty on Product</td>\n",
              "      <td>20k-30k</td>\n",
              "      <td>126.0</td>\n",
              "      <td>49.606299</td>\n",
              "      <td>Large (43-50\")</td>\n",
              "      <td>Other</td>\n",
              "      <td>NaN</td>\n",
              "      <td>TCL</td>\n",
              "    </tr>\n",
              "    <tr>\n",
              "      <th>3</th>\n",
              "      <td>acerpure by Acer Elevate Tv 108 cm (43 inch) Q...</td>\n",
              "      <td>19999.0</td>\n",
              "      <td>4.2</td>\n",
              "      <td>1,108 Ratings&amp;187 Reviews</td>\n",
              "      <td>Operating System: Google TV</td>\n",
              "      <td>Ultra HD (4K) 3840 x 2160 Pixels</td>\n",
              "      <td>Launch Year: 2024</td>\n",
              "      <td>1 Year Warranty</td>\n",
              "      <td>10k-20k</td>\n",
              "      <td>108.0</td>\n",
              "      <td>42.519685</td>\n",
              "      <td>Medium (32-43\")</td>\n",
              "      <td>Other</td>\n",
              "      <td>NaN</td>\n",
              "      <td>Acer</td>\n",
              "    </tr>\n",
              "    <tr>\n",
              "      <th>4</th>\n",
              "      <td>LG UR75 126 cm (50 inch) Ultra HD (4K) LED Sma...</td>\n",
              "      <td>38990.0</td>\n",
              "      <td>4.4</td>\n",
              "      <td>20,210 Ratings&amp;1,530 Reviews</td>\n",
              "      <td>Operating System: WebOS</td>\n",
              "      <td>Ultra HD (4K) 3840 x 2160 Pixels</td>\n",
              "      <td>Launch Year: 2025</td>\n",
              "      <td>1 Year Warranty from the date of purchase (T&amp;C...</td>\n",
              "      <td>30k-50k</td>\n",
              "      <td>126.0</td>\n",
              "      <td>49.606299</td>\n",
              "      <td>Large (43-50\")</td>\n",
              "      <td>Other</td>\n",
              "      <td>NaN</td>\n",
              "      <td>LG</td>\n",
              "    </tr>\n",
              "  </tbody>\n",
              "</table>\n",
              "</div>\n",
              "    <div class=\"colab-df-buttons\">\n",
              "\n",
              "  <div class=\"colab-df-container\">\n",
              "    <button class=\"colab-df-convert\" onclick=\"convertToInteractive('df-4dc25132-38f4-4b70-8b6e-e7f4e2c37c86')\"\n",
              "            title=\"Convert this dataframe to an interactive table.\"\n",
              "            style=\"display:none;\">\n",
              "\n",
              "  <svg xmlns=\"http://www.w3.org/2000/svg\" height=\"24px\" viewBox=\"0 -960 960 960\">\n",
              "    <path d=\"M120-120v-720h720v720H120Zm60-500h600v-160H180v160Zm220 220h160v-160H400v160Zm0 220h160v-160H400v160ZM180-400h160v-160H180v160Zm440 0h160v-160H620v160ZM180-180h160v-160H180v160Zm440 0h160v-160H620v160Z\"/>\n",
              "  </svg>\n",
              "    </button>\n",
              "\n",
              "  <style>\n",
              "    .colab-df-container {\n",
              "      display:flex;\n",
              "      gap: 12px;\n",
              "    }\n",
              "\n",
              "    .colab-df-convert {\n",
              "      background-color: #E8F0FE;\n",
              "      border: none;\n",
              "      border-radius: 50%;\n",
              "      cursor: pointer;\n",
              "      display: none;\n",
              "      fill: #1967D2;\n",
              "      height: 32px;\n",
              "      padding: 0 0 0 0;\n",
              "      width: 32px;\n",
              "    }\n",
              "\n",
              "    .colab-df-convert:hover {\n",
              "      background-color: #E2EBFA;\n",
              "      box-shadow: 0px 1px 2px rgba(60, 64, 67, 0.3), 0px 1px 3px 1px rgba(60, 64, 67, 0.15);\n",
              "      fill: #174EA6;\n",
              "    }\n",
              "\n",
              "    .colab-df-buttons div {\n",
              "      margin-bottom: 4px;\n",
              "    }\n",
              "\n",
              "    [theme=dark] .colab-df-convert {\n",
              "      background-color: #3B4455;\n",
              "      fill: #D2E3FC;\n",
              "    }\n",
              "\n",
              "    [theme=dark] .colab-df-convert:hover {\n",
              "      background-color: #434B5C;\n",
              "      box-shadow: 0px 1px 3px 1px rgba(0, 0, 0, 0.15);\n",
              "      filter: drop-shadow(0px 1px 2px rgba(0, 0, 0, 0.3));\n",
              "      fill: #FFFFFF;\n",
              "    }\n",
              "  </style>\n",
              "\n",
              "    <script>\n",
              "      const buttonEl =\n",
              "        document.querySelector('#df-4dc25132-38f4-4b70-8b6e-e7f4e2c37c86 button.colab-df-convert');\n",
              "      buttonEl.style.display =\n",
              "        google.colab.kernel.accessAllowed ? 'block' : 'none';\n",
              "\n",
              "      async function convertToInteractive(key) {\n",
              "        const element = document.querySelector('#df-4dc25132-38f4-4b70-8b6e-e7f4e2c37c86');\n",
              "        const dataTable =\n",
              "          await google.colab.kernel.invokeFunction('convertToInteractive',\n",
              "                                                    [key], {});\n",
              "        if (!dataTable) return;\n",
              "\n",
              "        const docLinkHtml = 'Like what you see? Visit the ' +\n",
              "          '<a target=\"_blank\" href=https://colab.research.google.com/notebooks/data_table.ipynb>data table notebook</a>'\n",
              "          + ' to learn more about interactive tables.';\n",
              "        element.innerHTML = '';\n",
              "        dataTable['output_type'] = 'display_data';\n",
              "        await google.colab.output.renderOutput(dataTable, element);\n",
              "        const docLink = document.createElement('div');\n",
              "        docLink.innerHTML = docLinkHtml;\n",
              "        element.appendChild(docLink);\n",
              "      }\n",
              "    </script>\n",
              "  </div>\n",
              "\n",
              "\n",
              "<div id=\"df-73c2a77a-66cc-4e77-a8c9-9a54146f622e\">\n",
              "  <button class=\"colab-df-quickchart\" onclick=\"quickchart('df-73c2a77a-66cc-4e77-a8c9-9a54146f622e')\"\n",
              "            title=\"Suggest charts\"\n",
              "            style=\"display:none;\">\n",
              "\n",
              "<svg xmlns=\"http://www.w3.org/2000/svg\" height=\"24px\"viewBox=\"0 0 24 24\"\n",
              "     width=\"24px\">\n",
              "    <g>\n",
              "        <path d=\"M19 3H5c-1.1 0-2 .9-2 2v14c0 1.1.9 2 2 2h14c1.1 0 2-.9 2-2V5c0-1.1-.9-2-2-2zM9 17H7v-7h2v7zm4 0h-2V7h2v10zm4 0h-2v-4h2v4z\"/>\n",
              "    </g>\n",
              "</svg>\n",
              "  </button>\n",
              "\n",
              "<style>\n",
              "  .colab-df-quickchart {\n",
              "      --bg-color: #E8F0FE;\n",
              "      --fill-color: #1967D2;\n",
              "      --hover-bg-color: #E2EBFA;\n",
              "      --hover-fill-color: #174EA6;\n",
              "      --disabled-fill-color: #AAA;\n",
              "      --disabled-bg-color: #DDD;\n",
              "  }\n",
              "\n",
              "  [theme=dark] .colab-df-quickchart {\n",
              "      --bg-color: #3B4455;\n",
              "      --fill-color: #D2E3FC;\n",
              "      --hover-bg-color: #434B5C;\n",
              "      --hover-fill-color: #FFFFFF;\n",
              "      --disabled-bg-color: #3B4455;\n",
              "      --disabled-fill-color: #666;\n",
              "  }\n",
              "\n",
              "  .colab-df-quickchart {\n",
              "    background-color: var(--bg-color);\n",
              "    border: none;\n",
              "    border-radius: 50%;\n",
              "    cursor: pointer;\n",
              "    display: none;\n",
              "    fill: var(--fill-color);\n",
              "    height: 32px;\n",
              "    padding: 0;\n",
              "    width: 32px;\n",
              "  }\n",
              "\n",
              "  .colab-df-quickchart:hover {\n",
              "    background-color: var(--hover-bg-color);\n",
              "    box-shadow: 0 1px 2px rgba(60, 64, 67, 0.3), 0 1px 3px 1px rgba(60, 64, 67, 0.15);\n",
              "    fill: var(--button-hover-fill-color);\n",
              "  }\n",
              "\n",
              "  .colab-df-quickchart-complete:disabled,\n",
              "  .colab-df-quickchart-complete:disabled:hover {\n",
              "    background-color: var(--disabled-bg-color);\n",
              "    fill: var(--disabled-fill-color);\n",
              "    box-shadow: none;\n",
              "  }\n",
              "\n",
              "  .colab-df-spinner {\n",
              "    border: 2px solid var(--fill-color);\n",
              "    border-color: transparent;\n",
              "    border-bottom-color: var(--fill-color);\n",
              "    animation:\n",
              "      spin 1s steps(1) infinite;\n",
              "  }\n",
              "\n",
              "  @keyframes spin {\n",
              "    0% {\n",
              "      border-color: transparent;\n",
              "      border-bottom-color: var(--fill-color);\n",
              "      border-left-color: var(--fill-color);\n",
              "    }\n",
              "    20% {\n",
              "      border-color: transparent;\n",
              "      border-left-color: var(--fill-color);\n",
              "      border-top-color: var(--fill-color);\n",
              "    }\n",
              "    30% {\n",
              "      border-color: transparent;\n",
              "      border-left-color: var(--fill-color);\n",
              "      border-top-color: var(--fill-color);\n",
              "      border-right-color: var(--fill-color);\n",
              "    }\n",
              "    40% {\n",
              "      border-color: transparent;\n",
              "      border-right-color: var(--fill-color);\n",
              "      border-top-color: var(--fill-color);\n",
              "    }\n",
              "    60% {\n",
              "      border-color: transparent;\n",
              "      border-right-color: var(--fill-color);\n",
              "    }\n",
              "    80% {\n",
              "      border-color: transparent;\n",
              "      border-right-color: var(--fill-color);\n",
              "      border-bottom-color: var(--fill-color);\n",
              "    }\n",
              "    90% {\n",
              "      border-color: transparent;\n",
              "      border-bottom-color: var(--fill-color);\n",
              "    }\n",
              "  }\n",
              "</style>\n",
              "\n",
              "  <script>\n",
              "    async function quickchart(key) {\n",
              "      const quickchartButtonEl =\n",
              "        document.querySelector('#' + key + ' button');\n",
              "      quickchartButtonEl.disabled = true;  // To prevent multiple clicks.\n",
              "      quickchartButtonEl.classList.add('colab-df-spinner');\n",
              "      try {\n",
              "        const charts = await google.colab.kernel.invokeFunction(\n",
              "            'suggestCharts', [key], {});\n",
              "      } catch (error) {\n",
              "        console.error('Error during call to suggestCharts:', error);\n",
              "      }\n",
              "      quickchartButtonEl.classList.remove('colab-df-spinner');\n",
              "      quickchartButtonEl.classList.add('colab-df-quickchart-complete');\n",
              "    }\n",
              "    (() => {\n",
              "      let quickchartButtonEl =\n",
              "        document.querySelector('#df-73c2a77a-66cc-4e77-a8c9-9a54146f622e button');\n",
              "      quickchartButtonEl.style.display =\n",
              "        google.colab.kernel.accessAllowed ? 'block' : 'none';\n",
              "    })();\n",
              "  </script>\n",
              "</div>\n",
              "\n",
              "    </div>\n",
              "  </div>\n"
            ],
            "application/vnd.google.colaboratory.intrinsic+json": {
              "type": "dataframe",
              "variable_name": "df",
              "summary": "{\n  \"name\": \"df\",\n  \"rows\": 297,\n  \"fields\": [\n    {\n      \"column\": \"Product Name\",\n      \"properties\": {\n        \"dtype\": \"string\",\n        \"num_unique_values\": 288,\n        \"samples\": [\n          \"Blaupunkt 126 cm (50 Inch) QLED Ultra HD (4K) Smart Google TV with 60W Sound Output HDR 10 | Dolby Atm...\",\n          \"SAMSUNG New D Series Brighter Crystal 4K Vivid (2024 Edition) 163 cm (65 inch) Ultra HD (4K) LED Smart...\",\n          \"Acer 80 cm (32 inch) HD Ready LED Smart Android TV with Android TV | 1.5GB RAM | 16GB Storage\"\n        ],\n        \"semantic_type\": \"\",\n        \"description\": \"\"\n      }\n    },\n    {\n      \"column\": \"Price\",\n      \"properties\": {\n        \"dtype\": \"number\",\n        \"std\": 34185.23494065547,\n        \"min\": 5799.0,\n        \"max\": 251099.0,\n        \"num_unique_values\": 194,\n        \"samples\": [\n          45999.0,\n          13490.0,\n          56999.0\n        ],\n        \"semantic_type\": \"\",\n        \"description\": \"\"\n      }\n    },\n    {\n      \"column\": \"Rating\",\n      \"properties\": {\n        \"dtype\": \"number\",\n        \"std\": 0.3257599248212228,\n        \"min\": 2.7,\n        \"max\": 5.0,\n        \"num_unique_values\": 21,\n        \"samples\": [\n          3.3,\n          4.9,\n          5.0\n        ],\n        \"semantic_type\": \"\",\n        \"description\": \"\"\n      }\n    },\n    {\n      \"column\": \"Reviews\",\n      \"properties\": {\n        \"dtype\": \"string\",\n        \"num_unique_values\": 178,\n        \"samples\": [\n          \"9,246 Ratings&1,041 Reviews\",\n          \"6,946 Ratings&667 Reviews\",\n          \"13 Ratings&1 Reviews\"\n        ],\n        \"semantic_type\": \"\",\n        \"description\": \"\"\n      }\n    },\n    {\n      \"column\": \"Supported Apps\",\n      \"properties\": {\n        \"dtype\": \"category\",\n        \"num_unique_values\": 11,\n        \"samples\": [\n          \"Operating System: Tizen\",\n          \"Operating System: Google TV\",\n          \"Operating System: Android Based\"\n        ],\n        \"semantic_type\": \"\",\n        \"description\": \"\"\n      }\n    },\n    {\n      \"column\": \"Operating System\",\n      \"properties\": {\n        \"dtype\": \"category\",\n        \"num_unique_values\": 6,\n        \"samples\": [\n          \"Ultra HD (4K) 3840 x 2160 Pixels\",\n          \"HD Ready 1366 x 768 Pixels\",\n          \"HD Ready 1920 x 1080 Pixels\"\n        ],\n        \"semantic_type\": \"\",\n        \"description\": \"\"\n      }\n    },\n    {\n      \"column\": \"Resolution\",\n      \"properties\": {\n        \"dtype\": \"category\",\n        \"num_unique_values\": 10,\n        \"samples\": [\n          \"Launch Year: 2016\",\n          \"Launch Year: 2023\",\n          \"Launch Year: 2020\"\n        ],\n        \"semantic_type\": \"\",\n        \"description\": \"\"\n      }\n    },\n    {\n      \"column\": \"Sound System\",\n      \"properties\": {\n        \"dtype\": \"category\",\n        \"num_unique_values\": 81,\n        \"samples\": [\n          \"1 year Comprehensive Warranty on Product\",\n          \"2 year comprehensive warranty\",\n          \"1 Year Warranty on the Product\"\n        ],\n        \"semantic_type\": \"\",\n        \"description\": \"\"\n      }\n    },\n    {\n      \"column\": \"Price_Category\",\n      \"properties\": {\n        \"dtype\": \"category\",\n        \"num_unique_values\": 6,\n        \"samples\": [\n          \"30k-50k\",\n          \"20k-30k\",\n          \">100k\"\n        ],\n        \"semantic_type\": \"\",\n        \"description\": \"\"\n      }\n    },\n    {\n      \"column\": \"Screen_Size_cm\",\n      \"properties\": {\n        \"dtype\": \"number\",\n        \"std\": 31.738984540066138,\n        \"min\": 60.0,\n        \"max\": 215.0,\n        \"num_unique_values\": 36,\n        \"samples\": [\n          125.7,\n          125.0,\n          81.28\n        ],\n        \"semantic_type\": \"\",\n        \"description\": \"\"\n      }\n    },\n    {\n      \"column\": \"Screen_Size_inches\",\n      \"properties\": {\n        \"dtype\": \"number\",\n        \"std\": 12.495663204750453,\n        \"min\": 23.62204724409449,\n        \"max\": 84.64566929133858,\n        \"num_unique_values\": 36,\n        \"samples\": [\n          49.48818897637796,\n          49.21259842519685,\n          32.0\n        ],\n        \"semantic_type\": \"\",\n        \"description\": \"\"\n      }\n    },\n    {\n      \"column\": \"Size_Category\",\n      \"properties\": {\n        \"dtype\": \"category\",\n        \"num_unique_values\": 7,\n        \"samples\": [\n          \"Medium (32-43\\\")\",\n          \"Large (43-50\\\")\",\n          \"Giant (65-75\\\")\"\n        ],\n        \"semantic_type\": \"\",\n        \"description\": \"\"\n      }\n    },\n    {\n      \"column\": \"OS_Type\",\n      \"properties\": {\n        \"dtype\": \"category\",\n        \"num_unique_values\": 1,\n        \"samples\": [\n          \"Other\"\n        ],\n        \"semantic_type\": \"\",\n        \"description\": \"\"\n      }\n    },\n    {\n      \"column\": \"Resolution_Type\",\n      \"properties\": {\n        \"dtype\": \"number\",\n        \"std\": null,\n        \"min\": null,\n        \"max\": null,\n        \"num_unique_values\": 0,\n        \"samples\": [],\n        \"semantic_type\": \"\",\n        \"description\": \"\"\n      }\n    },\n    {\n      \"column\": \"Brand\",\n      \"properties\": {\n        \"dtype\": \"category\",\n        \"num_unique_values\": 46,\n        \"samples\": [],\n        \"semantic_type\": \"\",\n        \"description\": \"\"\n      }\n    }\n  ]\n}"
            }
          },
          "metadata": {},
          "execution_count": 30
        }
      ]
    },
    {
      "cell_type": "code",
      "source": [
        "df.isnull().sum()\n"
      ],
      "metadata": {
        "colab": {
          "base_uri": "https://localhost:8080/",
          "height": 586
        },
        "id": "Zbbe0GcucqEz",
        "outputId": "ecdd34b2-5ad3-497d-81d3-7e84681a2699"
      },
      "execution_count": 58,
      "outputs": [
        {
          "output_type": "execute_result",
          "data": {
            "text/plain": [
              "Product Name            0\n",
              "Price                   0\n",
              "Rating                  0\n",
              "Reviews                 0\n",
              "Supported Apps          0\n",
              "Operating System        0\n",
              "Resolution              0\n",
              "Sound System            7\n",
              "Price_Category          0\n",
              "Screen_Size_cm          3\n",
              "Screen_Size_inches      3\n",
              "Size_Category           3\n",
              "OS_Type                 0\n",
              "Resolution_Type       297\n",
              "Brand                   0\n",
              "label                   0\n",
              "dtype: int64"
            ],
            "text/html": [
              "<div>\n",
              "<style scoped>\n",
              "    .dataframe tbody tr th:only-of-type {\n",
              "        vertical-align: middle;\n",
              "    }\n",
              "\n",
              "    .dataframe tbody tr th {\n",
              "        vertical-align: top;\n",
              "    }\n",
              "\n",
              "    .dataframe thead th {\n",
              "        text-align: right;\n",
              "    }\n",
              "</style>\n",
              "<table border=\"1\" class=\"dataframe\">\n",
              "  <thead>\n",
              "    <tr style=\"text-align: right;\">\n",
              "      <th></th>\n",
              "      <th>0</th>\n",
              "    </tr>\n",
              "  </thead>\n",
              "  <tbody>\n",
              "    <tr>\n",
              "      <th>Product Name</th>\n",
              "      <td>0</td>\n",
              "    </tr>\n",
              "    <tr>\n",
              "      <th>Price</th>\n",
              "      <td>0</td>\n",
              "    </tr>\n",
              "    <tr>\n",
              "      <th>Rating</th>\n",
              "      <td>0</td>\n",
              "    </tr>\n",
              "    <tr>\n",
              "      <th>Reviews</th>\n",
              "      <td>0</td>\n",
              "    </tr>\n",
              "    <tr>\n",
              "      <th>Supported Apps</th>\n",
              "      <td>0</td>\n",
              "    </tr>\n",
              "    <tr>\n",
              "      <th>Operating System</th>\n",
              "      <td>0</td>\n",
              "    </tr>\n",
              "    <tr>\n",
              "      <th>Resolution</th>\n",
              "      <td>0</td>\n",
              "    </tr>\n",
              "    <tr>\n",
              "      <th>Sound System</th>\n",
              "      <td>7</td>\n",
              "    </tr>\n",
              "    <tr>\n",
              "      <th>Price_Category</th>\n",
              "      <td>0</td>\n",
              "    </tr>\n",
              "    <tr>\n",
              "      <th>Screen_Size_cm</th>\n",
              "      <td>3</td>\n",
              "    </tr>\n",
              "    <tr>\n",
              "      <th>Screen_Size_inches</th>\n",
              "      <td>3</td>\n",
              "    </tr>\n",
              "    <tr>\n",
              "      <th>Size_Category</th>\n",
              "      <td>3</td>\n",
              "    </tr>\n",
              "    <tr>\n",
              "      <th>OS_Type</th>\n",
              "      <td>0</td>\n",
              "    </tr>\n",
              "    <tr>\n",
              "      <th>Resolution_Type</th>\n",
              "      <td>297</td>\n",
              "    </tr>\n",
              "    <tr>\n",
              "      <th>Brand</th>\n",
              "      <td>0</td>\n",
              "    </tr>\n",
              "    <tr>\n",
              "      <th>label</th>\n",
              "      <td>0</td>\n",
              "    </tr>\n",
              "  </tbody>\n",
              "</table>\n",
              "</div><br><label><b>dtype:</b> int64</label>"
            ]
          },
          "metadata": {},
          "execution_count": 58
        }
      ]
    },
    {
      "cell_type": "code",
      "source": [
        "df.drop(columns=['Resolution_Type'],inplace=True)"
      ],
      "metadata": {
        "id": "3RQAEjEicsEs"
      },
      "execution_count": 60,
      "outputs": []
    },
    {
      "cell_type": "code",
      "source": [
        "df['Screen_Size_cm'].fillna(\"75\",inplace=True)"
      ],
      "metadata": {
        "id": "gr5P56TjdKbY"
      },
      "execution_count": 62,
      "outputs": []
    },
    {
      "cell_type": "code",
      "source": [
        "df['Screen_Size_inches'].fillna(\"32\",inplace=True)"
      ],
      "metadata": {
        "id": "KxSPUFxDdX6A"
      },
      "execution_count": 63,
      "outputs": []
    },
    {
      "cell_type": "code",
      "source": [
        "df['Size_Category'].fillna(\"Medium32-43\",inplace=True)"
      ],
      "metadata": {
        "id": "HPXT5t4-diHr"
      },
      "execution_count": 66,
      "outputs": []
    },
    {
      "cell_type": "code",
      "source": [
        "df['Sound System'].fillna(\"soundmedia\",inplace=True)"
      ],
      "metadata": {
        "id": "NwKZ1KT8dybD"
      },
      "execution_count": 68,
      "outputs": []
    },
    {
      "cell_type": "code",
      "source": [
        "from sklearn.impute import SimpleImputer\n",
        "\n",
        "# For all numeric columns\n",
        "num_imputer = SimpleImputer(strategy='mean')  # or use 'median'\n",
        "numeric_cols = df.select_dtypes(include=['float64', 'int64']).columns\n",
        "df[numeric_cols] = num_imputer.fit_transform(df[numeric_cols])\n"
      ],
      "metadata": {
        "id": "bFGZ3H1zeBY9"
      },
      "execution_count": 69,
      "outputs": []
    },
    {
      "cell_type": "code",
      "source": [
        "cat_imputer = SimpleImputer(strategy='most_frequent')\n",
        "categorical_cols = df.select_dtypes(include=['object']).columns\n",
        "df[categorical_cols] = cat_imputer.fit_transform(df[categorical_cols])\n"
      ],
      "metadata": {
        "id": "sLu5Yvg8eEIr"
      },
      "execution_count": 70,
      "outputs": []
    },
    {
      "cell_type": "code",
      "source": [
        "df.isnull().sum().sum()  # Should return 0 if all missing values are handled\n"
      ],
      "metadata": {
        "colab": {
          "base_uri": "https://localhost:8080/"
        },
        "id": "01pVw80IeFil",
        "outputId": "53a287a6-8cfe-43da-902e-f4162a6d46b5"
      },
      "execution_count": 71,
      "outputs": [
        {
          "output_type": "execute_result",
          "data": {
            "text/plain": [
              "np.int64(0)"
            ]
          },
          "metadata": {},
          "execution_count": 71
        }
      ]
    },
    {
      "cell_type": "code",
      "source": [
        "print(df.dtypes)\n"
      ],
      "metadata": {
        "colab": {
          "base_uri": "https://localhost:8080/"
        },
        "id": "sA_Qbh_dZI2d",
        "outputId": "50d0cc0b-8338-4271-ee7c-f95e2abc49d7"
      },
      "execution_count": 40,
      "outputs": [
        {
          "output_type": "stream",
          "name": "stdout",
          "text": [
            "Product Name           object\n",
            "Price                 float64\n",
            "Rating                float64\n",
            "Reviews                object\n",
            "Supported Apps         object\n",
            "Operating System       object\n",
            "Resolution             object\n",
            "Sound System           object\n",
            "Price_Category         object\n",
            "Screen_Size_cm        float64\n",
            "Screen_Size_inches    float64\n",
            "Size_Category          object\n",
            "OS_Type                object\n",
            "Resolution_Type       float64\n",
            "Brand                  object\n",
            "dtype: object\n"
          ]
        }
      ]
    },
    {
      "cell_type": "code",
      "source": [
        "numeric_df = df.select_dtypes(include=['int64', 'float64'])\n",
        "\n",
        "# Preview the columns\n",
        "print(numeric_df.columns)\n"
      ],
      "metadata": {
        "colab": {
          "base_uri": "https://localhost:8080/"
        },
        "id": "NsTFYHF2ZL_9",
        "outputId": "cd66b504-782f-4855-f7c4-bc63a9cd68d7"
      },
      "execution_count": 74,
      "outputs": [
        {
          "output_type": "stream",
          "name": "stdout",
          "text": [
            "Index(['Price', 'Rating', 'label'], dtype='object')\n"
          ]
        }
      ]
    },
    {
      "cell_type": "code",
      "source": [
        "# Drop columns where more than 50% of values are missing\n",
        "numeric_df = numeric_df.loc[:, numeric_df.isnull().mean() < 0.5]\n",
        "\n",
        "# Then fill missing values\n",
        "clustering_data = numeric_df.fillna(numeric_df.mean())\n",
        "scaled_data = scaler.fit_transform(clustering_data)\n",
        "\n"
      ],
      "metadata": {
        "id": "CaX9RlUHZP_H"
      },
      "execution_count": 75,
      "outputs": []
    },
    {
      "cell_type": "code",
      "source": [
        "wcss = []\n",
        "for i in range(1, 11):\n",
        "    kmeans = KMeans(n_clusters=i, random_state=42)\n",
        "    kmeans.fit(scaled_data)\n",
        "    wcss.append(kmeans.inertia_)\n",
        "\n",
        "# Plot the elbow curve\n",
        "plt.figure(figsize=(8, 4))\n",
        "plt.plot(range(1, 11), wcss, marker='o')\n",
        "plt.title('Elbow Method')\n",
        "plt.xlabel('Number of clusters')\n",
        "plt.ylabel('WCSS')\n",
        "plt.show()\n"
      ],
      "metadata": {
        "colab": {
          "base_uri": "https://localhost:8080/",
          "height": 410
        },
        "id": "wqTay0rPZoPo",
        "outputId": "e2827eef-1c9f-4113-8763-cb3f10fb8fb5"
      },
      "execution_count": 76,
      "outputs": [
        {
          "output_type": "display_data",
          "data": {
            "text/plain": [
              "<Figure size 800x400 with 1 Axes>"
            ],
            "image/png": "[encoded data removed]"
          },
          "metadata": {}
        }
      ]
    },
    {
      "cell_type": "code",
      "source": [
        "# Choose n_clusters based on elbow curve (e.g., 4)\n",
        "kmeans = KMeans(n_clusters=4, random_state=42)\n",
        "clusters = kmeans.fit_predict(scaled_data)\n"
      ],
      "metadata": {
        "id": "WSeRUxb9ZqxT"
      },
      "execution_count": 77,
      "outputs": []
    },
    {
      "cell_type": "code",
      "source": [
        "# Proceed with K-Means clustering using 4 clusters (based on elbow curve)\n",
        "optimal_clusters = 4\n",
        "kmeans = KMeans(n_clusters=optimal_clusters, random_state=42)\n",
        "clusters = kmeans.fit_predict(scaled_data)\n",
        "\n",
        "# Add cluster labels to the original dataset\n",
        "df_with_clusters = df.copy()\n",
        "df_with_clusters['cluster'] = clusters\n",
        "\n",
        "# Display first few rows of the updated dataset\n",
        "df_with_clusters.head()\n"
      ],
      "metadata": {
        "colab": {
          "base_uri": "https://localhost:8080/",
          "height": 539
        },
        "id": "SiPuIf6RZsgR",
        "outputId": "5ebe012e-d3e3-4e32-e939-7d88810b48cf"
      },
      "execution_count": 78,
      "outputs": [
        {
          "output_type": "execute_result",
          "data": {
            "text/plain": [
              "                                        Product Name    Price  Rating  \\\n",
              "0  XIAOMI X Pro CineMagiQLED 108 cm (43 inch) QLE...  31999.0     3.3   \n",
              "1  LG UR7500 108 cm (43 inch) Ultra HD (4K) LED S...  30990.0     4.4   \n",
              "2  iFFALCON by TCL U64 126 cm (50 inch) Ultra HD ...  22999.0     4.2   \n",
              "3  acerpure by Acer Elevate Tv 108 cm (43 inch) Q...  19999.0     4.2   \n",
              "4  LG UR75 126 cm (50 inch) Ultra HD (4K) LED Sma...  38990.0     4.4   \n",
              "\n",
              "                        Reviews               Supported Apps  \\\n",
              "0          31 Ratings&1 Reviews  Operating System: Google TV   \n",
              "1  20,210 Ratings&1,530 Reviews      Operating System: WebOS   \n",
              "2  77,110 Ratings&8,362 Reviews  Operating System: Google TV   \n",
              "3     1,108 Ratings&187 Reviews  Operating System: Google TV   \n",
              "4  20,210 Ratings&1,530 Reviews      Operating System: WebOS   \n",
              "\n",
              "                   Operating System         Resolution  \\\n",
              "0  Ultra HD (4K) 3840 x 2160 Pixels  Launch Year: 2025   \n",
              "1  Ultra HD (4K) 3840 x 2160 Pixels  Launch Year: 2023   \n",
              "2  Ultra HD (4K) 3840 x 2160 Pixels  Launch Year: 2024   \n",
              "3  Ultra HD (4K) 3840 x 2160 Pixels  Launch Year: 2024   \n",
              "4  Ultra HD (4K) 3840 x 2160 Pixels  Launch Year: 2025   \n",
              "\n",
              "                                        Sound System Price_Category  \\\n",
              "0                      2 year comprehensive warranty        30k-50k   \n",
              "1  1 Year Standard Warranty on the Product from t...        30k-50k   \n",
              "2                         1 Year Warranty on Product        20k-30k   \n",
              "3                                    1 Year Warranty        10k-20k   \n",
              "4  1 Year Warranty from the date of purchase (T&C...        30k-50k   \n",
              "\n",
              "  Screen_Size_cm Screen_Size_inches    Size_Category OS_Type   Brand  label  \\\n",
              "0          108.0          42.519685  Medium (32-43\")   Other  Xiaomi    2.0   \n",
              "1          108.0          42.519685  Medium (32-43\")   Other      LG    2.0   \n",
              "2          126.0          49.606299   Large (43-50\")   Other     TCL    1.0   \n",
              "3          108.0          42.519685  Medium (32-43\")   Other    Acer    0.0   \n",
              "4          126.0          49.606299   Large (43-50\")   Other      LG    2.0   \n",
              "\n",
              "   cluster  \n",
              "0        2  \n",
              "1        3  \n",
              "2        0  \n",
              "3        0  \n",
              "4        3  "
            ],
            "text/html": [
              "\n",
              "  <div id=\"df-18cfe7f2-2612-4c48-a3f2-d48145423580\" class=\"colab-df-container\">\n",
              "    <div>\n",
              "<style scoped>\n",
              "    .dataframe tbody tr th:only-of-type {\n",
              "        vertical-align: middle;\n",
              "    }\n",
              "\n",
              "    .dataframe tbody tr th {\n",
              "        vertical-align: top;\n",
              "    }\n",
              "\n",
              "    .dataframe thead th {\n",
              "        text-align: right;\n",
              "    }\n",
              "</style>\n",
              "<table border=\"1\" class=\"dataframe\">\n",
              "  <thead>\n",
              "    <tr style=\"text-align: right;\">\n",
              "      <th></th>\n",
              "      <th>Product Name</th>\n",
              "      <th>Price</th>\n",
              "      <th>Rating</th>\n",
              "      <th>Reviews</th>\n",
              "      <th>Supported Apps</th>\n",
              "      <th>Operating System</th>\n",
              "      <th>Resolution</th>\n",
              "      <th>Sound System</th>\n",
              "      <th>Price_Category</th>\n",
              "      <th>Screen_Size_cm</th>\n",
              "      <th>Screen_Size_inches</th>\n",
              "      <th>Size_Category</th>\n",
              "      <th>OS_Type</th>\n",
              "      <th>Brand</th>\n",
              "      <th>label</th>\n",
              "      <th>cluster</th>\n",
              "    </tr>\n",
              "  </thead>\n",
              "  <tbody>\n",
              "    <tr>\n",
              "      <th>0</th>\n",
              "      <td>XIAOMI X Pro CineMagiQLED 108 cm (43 inch) QLE...</td>\n",
              "      <td>31999.0</td>\n",
              "      <td>3.3</td>\n",
              "      <td>31 Ratings&amp;1 Reviews</td>\n",
              "      <td>Operating System: Google TV</td>\n",
              "      <td>Ultra HD (4K) 3840 x 2160 Pixels</td>\n",
              "      <td>Launch Year: 2025</td>\n",
              "      <td>2 year comprehensive warranty</td>\n",
              "      <td>30k-50k</td>\n",
              "      <td>108.0</td>\n",
              "      <td>42.519685</td>\n",
              "      <td>Medium (32-43\")</td>\n",
              "      <td>Other</td>\n",
              "      <td>Xiaomi</td>\n",
              "      <td>2.0</td>\n",
              "      <td>2</td>\n",
              "    </tr>\n",
              "    <tr>\n",
              "      <th>1</th>\n",
              "      <td>LG UR7500 108 cm (43 inch) Ultra HD (4K) LED S...</td>\n",
              "      <td>30990.0</td>\n",
              "      <td>4.4</td>\n",
              "      <td>20,210 Ratings&amp;1,530 Reviews</td>\n",
              "      <td>Operating System: WebOS</td>\n",
              "      <td>Ultra HD (4K) 3840 x 2160 Pixels</td>\n",
              "      <td>Launch Year: 2023</td>\n",
              "      <td>1 Year Standard Warranty on the Product from t...</td>\n",
              "      <td>30k-50k</td>\n",
              "      <td>108.0</td>\n",
              "      <td>42.519685</td>\n",
              "      <td>Medium (32-43\")</td>\n",
              "      <td>Other</td>\n",
              "      <td>LG</td>\n",
              "      <td>2.0</td>\n",
              "      <td>3</td>\n",
              "    </tr>\n",
              "    <tr>\n",
              "      <th>2</th>\n",
              "      <td>iFFALCON by TCL U64 126 cm (50 inch) Ultra HD ...</td>\n",
              "      <td>22999.0</td>\n",
              "      <td>4.2</td>\n",
              "      <td>77,110 Ratings&amp;8,362 Reviews</td>\n",
              "      <td>Operating System: Google TV</td>\n",
              "      <td>Ultra HD (4K) 3840 x 2160 Pixels</td>\n",
              "      <td>Launch Year: 2024</td>\n",
              "      <td>1 Year Warranty on Product</td>\n",
              "      <td>20k-30k</td>\n",
              "      <td>126.0</td>\n",
              "      <td>49.606299</td>\n",
              "      <td>Large (43-50\")</td>\n",
              "      <td>Other</td>\n",
              "      <td>TCL</td>\n",
              "      <td>1.0</td>\n",
              "      <td>0</td>\n",
              "    </tr>\n",
              "    <tr>\n",
              "      <th>3</th>\n",
              "      <td>acerpure by Acer Elevate Tv 108 cm (43 inch) Q...</td>\n",
              "      <td>19999.0</td>\n",
              "      <td>4.2</td>\n",
              "      <td>1,108 Ratings&amp;187 Reviews</td>\n",
              "      <td>Operating System: Google TV</td>\n",
              "      <td>Ultra HD (4K) 3840 x 2160 Pixels</td>\n",
              "      <td>Launch Year: 2024</td>\n",
              "      <td>1 Year Warranty</td>\n",
              "      <td>10k-20k</td>\n",
              "      <td>108.0</td>\n",
              "      <td>42.519685</td>\n",
              "      <td>Medium (32-43\")</td>\n",
              "      <td>Other</td>\n",
              "      <td>Acer</td>\n",
              "      <td>0.0</td>\n",
              "      <td>0</td>\n",
              "    </tr>\n",
              "    <tr>\n",
              "      <th>4</th>\n",
              "      <td>LG UR75 126 cm (50 inch) Ultra HD (4K) LED Sma...</td>\n",
              "      <td>38990.0</td>\n",
              "      <td>4.4</td>\n",
              "      <td>20,210 Ratings&amp;1,530 Reviews</td>\n",
              "      <td>Operating System: WebOS</td>\n",
              "      <td>Ultra HD (4K) 3840 x 2160 Pixels</td>\n",
              "      <td>Launch Year: 2025</td>\n",
              "      <td>1 Year Warranty from the date of purchase (T&amp;C...</td>\n",
              "      <td>30k-50k</td>\n",
              "      <td>126.0</td>\n",
              "      <td>49.606299</td>\n",
              "      <td>Large (43-50\")</td>\n",
              "      <td>Other</td>\n",
              "      <td>LG</td>\n",
              "      <td>2.0</td>\n",
              "      <td>3</td>\n",
              "    </tr>\n",
              "  </tbody>\n",
              "</table>\n",
              "</div>\n",
              "    <div class=\"colab-df-buttons\">\n",
              "\n",
              "  <div class=\"colab-df-container\">\n",
              "    <button class=\"colab-df-convert\" onclick=\"convertToInteractive('df-18cfe7f2-2612-4c48-a3f2-d48145423580')\"\n",
              "            title=\"Convert this dataframe to an interactive table.\"\n",
              "            style=\"display:none;\">\n",
              "\n",
              "  <svg xmlns=\"http://www.w3.org/2000/svg\" height=\"24px\" viewBox=\"0 -960 960 960\">\n",
              "    <path d=\"M120-120v-720h720v720H120Zm60-500h600v-160H180v160Zm220 220h160v-160H400v160Zm0 220h160v-160H400v160ZM180-400h160v-160H180v160Zm440 0h160v-160H620v160ZM180-180h160v-160H180v160Zm440 0h160v-160H620v160Z\"/>\n",
              "  </svg>\n",
              "    </button>\n",
              "\n",
              "  <style>\n",
              "    .colab-df-container {\n",
              "      display:flex;\n",
              "      gap: 12px;\n",
              "    }\n",
              "\n",
              "    .colab-df-convert {\n",
              "      background-color: #E8F0FE;\n",
              "      border: none;\n",
              "      border-radius: 50%;\n",
              "      cursor: pointer;\n",
              "      display: none;\n",
              "      fill: #1967D2;\n",
              "      height: 32px;\n",
              "      padding: 0 0 0 0;\n",
              "      width: 32px;\n",
              "    }\n",
              "\n",
              "    .colab-df-convert:hover {\n",
              "      background-color: #E2EBFA;\n",
              "      box-shadow: 0px 1px 2px rgba(60, 64, 67, 0.3), 0px 1px 3px 1px rgba(60, 64, 67, 0.15);\n",
              "      fill: #174EA6;\n",
              "    }\n",
              "\n",
              "    .colab-df-buttons div {\n",
              "      margin-bottom: 4px;\n",
              "    }\n",
              "\n",
              "    [theme=dark] .colab-df-convert {\n",
              "      background-color: #3B4455;\n",
              "      fill: #D2E3FC;\n",
              "    }\n",
              "\n",
              "    [theme=dark] .colab-df-convert:hover {\n",
              "      background-color: #434B5C;\n",
              "      box-shadow: 0px 1px 3px 1px rgba(0, 0, 0, 0.15);\n",
              "      filter: drop-shadow(0px 1px 2px rgba(0, 0, 0, 0.3));\n",
              "      fill: #FFFFFF;\n",
              "    }\n",
              "  </style>\n",
              "\n",
              "    <script>\n",
              "      const buttonEl =\n",
              "        document.querySelector('#df-18cfe7f2-2612-4c48-a3f2-d48145423580 button.colab-df-convert');\n",
              "      buttonEl.style.display =\n",
              "        google.colab.kernel.accessAllowed ? 'block' : 'none';\n",
              "\n",
              "      async function convertToInteractive(key) {\n",
              "        const element = document.querySelector('#df-18cfe7f2-2612-4c48-a3f2-d48145423580');\n",
              "        const dataTable =\n",
              "          await google.colab.kernel.invokeFunction('convertToInteractive',\n",
              "                                                    [key], {});\n",
              "        if (!dataTable) return;\n",
              "\n",
              "        const docLinkHtml = 'Like what you see? Visit the ' +\n",
              "          '<a target=\"_blank\" href=https://colab.research.google.com/notebooks/data_table.ipynb>data table notebook</a>'\n",
              "          + ' to learn more about interactive tables.';\n",
              "        element.innerHTML = '';\n",
              "        dataTable['output_type'] = 'display_data';\n",
              "        await google.colab.output.renderOutput(dataTable, element);\n",
              "        const docLink = document.createElement('div');\n",
              "        docLink.innerHTML = docLinkHtml;\n",
              "        element.appendChild(docLink);\n",
              "      }\n",
              "    </script>\n",
              "  </div>\n",
              "\n",
              "\n",
              "<div id=\"df-a2c8c254-b9cb-4161-92e1-fb8370153fa7\">\n",
              "  <button class=\"colab-df-quickchart\" onclick=\"quickchart('df-a2c8c254-b9cb-4161-92e1-fb8370153fa7')\"\n",
              "            title=\"Suggest charts\"\n",
              "            style=\"display:none;\">\n",
              "\n",
              "<svg xmlns=\"http://www.w3.org/2000/svg\" height=\"24px\"viewBox=\"0 0 24 24\"\n",
              "     width=\"24px\">\n",
              "    <g>\n",
              "        <path d=\"M19 3H5c-1.1 0-2 .9-2 2v14c0 1.1.9 2 2 2h14c1.1 0 2-.9 2-2V5c0-1.1-.9-2-2-2zM9 17H7v-7h2v7zm4 0h-2V7h2v10zm4 0h-2v-4h2v4z\"/>\n",
              "    </g>\n",
              "</svg>\n",
              "  </button>\n",
              "\n",
              "<style>\n",
              "  .colab-df-quickchart {\n",
              "      --bg-color: #E8F0FE;\n",
              "      --fill-color: #1967D2;\n",
              "      --hover-bg-color: #E2EBFA;\n",
              "      --hover-fill-color: #174EA6;\n",
              "      --disabled-fill-color: #AAA;\n",
              "      --disabled-bg-color: #DDD;\n",
              "  }\n",
              "\n",
              "  [theme=dark] .colab-df-quickchart {\n",
              "      --bg-color: #3B4455;\n",
              "      --fill-color: #D2E3FC;\n",
              "      --hover-bg-color: #434B5C;\n",
              "      --hover-fill-color: #FFFFFF;\n",
              "      --disabled-bg-color: #3B4455;\n",
              "      --disabled-fill-color: #666;\n",
              "  }\n",
              "\n",
              "  .colab-df-quickchart {\n",
              "    background-color: var(--bg-color);\n",
              "    border: none;\n",
              "    border-radius: 50%;\n",
              "    cursor: pointer;\n",
              "    display: none;\n",
              "    fill: var(--fill-color);\n",
              "    height: 32px;\n",
              "    padding: 0;\n",
              "    width: 32px;\n",
              "  }\n",
              "\n",
              "  .colab-df-quickchart:hover {\n",
              "    background-color: var(--hover-bg-color);\n",
              "    box-shadow: 0 1px 2px rgba(60, 64, 67, 0.3), 0 1px 3px 1px rgba(60, 64, 67, 0.15);\n",
              "    fill: var(--button-hover-fill-color);\n",
              "  }\n",
              "\n",
              "  .colab-df-quickchart-complete:disabled,\n",
              "  .colab-df-quickchart-complete:disabled:hover {\n",
              "    background-color: var(--disabled-bg-color);\n",
              "    fill: var(--disabled-fill-color);\n",
              "    box-shadow: none;\n",
              "  }\n",
              "\n",
              "  .colab-df-spinner {\n",
              "    border: 2px solid var(--fill-color);\n",
              "    border-color: transparent;\n",
              "    border-bottom-color: var(--fill-color);\n",
              "    animation:\n",
              "      spin 1s steps(1) infinite;\n",
              "  }\n",
              "\n",
              "  @keyframes spin {\n",
              "    0% {\n",
              "      border-color: transparent;\n",
              "      border-bottom-color: var(--fill-color);\n",
              "      border-left-color: var(--fill-color);\n",
              "    }\n",
              "    20% {\n",
              "      border-color: transparent;\n",
              "      border-left-color: var(--fill-color);\n",
              "      border-top-color: var(--fill-color);\n",
              "    }\n",
              "    30% {\n",
              "      border-color: transparent;\n",
              "      border-left-color: var(--fill-color);\n",
              "      border-top-color: var(--fill-color);\n",
              "      border-right-color: var(--fill-color);\n",
              "    }\n",
              "    40% {\n",
              "      border-color: transparent;\n",
              "      border-right-color: var(--fill-color);\n",
              "      border-top-color: var(--fill-color);\n",
              "    }\n",
              "    60% {\n",
              "      border-color: transparent;\n",
              "      border-right-color: var(--fill-color);\n",
              "    }\n",
              "    80% {\n",
              "      border-color: transparent;\n",
              "      border-right-color: var(--fill-color);\n",
              "      border-bottom-color: var(--fill-color);\n",
              "    }\n",
              "    90% {\n",
              "      border-color: transparent;\n",
              "      border-bottom-color: var(--fill-color);\n",
              "    }\n",
              "  }\n",
              "</style>\n",
              "\n",
              "  <script>\n",
              "    async function quickchart(key) {\n",
              "      const quickchartButtonEl =\n",
              "        document.querySelector('#' + key + ' button');\n",
              "      quickchartButtonEl.disabled = true;  // To prevent multiple clicks.\n",
              "      quickchartButtonEl.classList.add('colab-df-spinner');\n",
              "      try {\n",
              "        const charts = await google.colab.kernel.invokeFunction(\n",
              "            'suggestCharts', [key], {});\n",
              "      } catch (error) {\n",
              "        console.error('Error during call to suggestCharts:', error);\n",
              "      }\n",
              "      quickchartButtonEl.classList.remove('colab-df-spinner');\n",
              "      quickchartButtonEl.classList.add('colab-df-quickchart-complete');\n",
              "    }\n",
              "    (() => {\n",
              "      let quickchartButtonEl =\n",
              "        document.querySelector('#df-a2c8c254-b9cb-4161-92e1-fb8370153fa7 button');\n",
              "      quickchartButtonEl.style.display =\n",
              "        google.colab.kernel.accessAllowed ? 'block' : 'none';\n",
              "    })();\n",
              "  </script>\n",
              "</div>\n",
              "\n",
              "    </div>\n",
              "  </div>\n"
            ],
            "application/vnd.google.colaboratory.intrinsic+json": {
              "type": "dataframe",
              "variable_name": "df_with_clusters",
              "summary": "{\n  \"name\": \"df_with_clusters\",\n  \"rows\": 297,\n  \"fields\": [\n    {\n      \"column\": \"Product Name\",\n      \"properties\": {\n        \"dtype\": \"string\",\n        \"num_unique_values\": 288,\n        \"samples\": [\n          \"Blaupunkt 126 cm (50 Inch) QLED Ultra HD (4K) Smart Google TV with 60W Sound Output HDR 10 | Dolby Atm...\",\n          \"SAMSUNG New D Series Brighter Crystal 4K Vivid (2024 Edition) 163 cm (65 inch) Ultra HD (4K) LED Smart...\",\n          \"Acer 80 cm (32 inch) HD Ready LED Smart Android TV with Android TV | 1.5GB RAM | 16GB Storage\"\n        ],\n        \"semantic_type\": \"\",\n        \"description\": \"\"\n      }\n    },\n    {\n      \"column\": \"Price\",\n      \"properties\": {\n        \"dtype\": \"number\",\n        \"std\": 34185.23494065547,\n        \"min\": 5799.0,\n        \"max\": 251099.0,\n        \"num_unique_values\": 194,\n        \"samples\": [\n          45999.0,\n          13490.0,\n          56999.0\n        ],\n        \"semantic_type\": \"\",\n        \"description\": \"\"\n      }\n    },\n    {\n      \"column\": \"Rating\",\n      \"properties\": {\n        \"dtype\": \"number\",\n        \"std\": 0.3257599248212228,\n        \"min\": 2.7,\n        \"max\": 5.0,\n        \"num_unique_values\": 21,\n        \"samples\": [\n          3.3,\n          4.9,\n          5.0\n        ],\n        \"semantic_type\": \"\",\n        \"description\": \"\"\n      }\n    },\n    {\n      \"column\": \"Reviews\",\n      \"properties\": {\n        \"dtype\": \"string\",\n        \"num_unique_values\": 178,\n        \"samples\": [\n          \"9,246 Ratings&1,041 Reviews\",\n          \"6,946 Ratings&667 Reviews\",\n          \"13 Ratings&1 Reviews\"\n        ],\n        \"semantic_type\": \"\",\n        \"description\": \"\"\n      }\n    },\n    {\n      \"column\": \"Supported Apps\",\n      \"properties\": {\n        \"dtype\": \"category\",\n        \"num_unique_values\": 11,\n        \"samples\": [\n          \"Operating System: Tizen\",\n          \"Operating System: Google TV\",\n          \"Operating System: Android Based\"\n        ],\n        \"semantic_type\": \"\",\n        \"description\": \"\"\n      }\n    },\n    {\n      \"column\": \"Operating System\",\n      \"properties\": {\n        \"dtype\": \"category\",\n        \"num_unique_values\": 6,\n        \"samples\": [\n          \"Ultra HD (4K) 3840 x 2160 Pixels\",\n          \"HD Ready 1366 x 768 Pixels\",\n          \"HD Ready 1920 x 1080 Pixels\"\n        ],\n        \"semantic_type\": \"\",\n        \"description\": \"\"\n      }\n    },\n    {\n      \"column\": \"Resolution\",\n      \"properties\": {\n        \"dtype\": \"category\",\n        \"num_unique_values\": 10,\n        \"samples\": [\n          \"Launch Year: 2016\",\n          \"Launch Year: 2023\",\n          \"Launch Year: 2020\"\n        ],\n        \"semantic_type\": \"\",\n        \"description\": \"\"\n      }\n    },\n    {\n      \"column\": \"Sound System\",\n      \"properties\": {\n        \"dtype\": \"category\",\n        \"num_unique_values\": 82,\n        \"samples\": [\n          \"1 year Comprehensive Warranty on Product\",\n          \"2 year comprehensive warranty\",\n          \"1 Year Warranty on the Product\"\n        ],\n        \"semantic_type\": \"\",\n        \"description\": \"\"\n      }\n    },\n    {\n      \"column\": \"Price_Category\",\n      \"properties\": {\n        \"dtype\": \"category\",\n        \"num_unique_values\": 6,\n        \"samples\": [\n          \"30k-50k\",\n          \"20k-30k\",\n          \">100k\"\n        ],\n        \"semantic_type\": \"\",\n        \"description\": \"\"\n      }\n    },\n    {\n      \"column\": \"Screen_Size_cm\",\n      \"properties\": {\n        \"dtype\": \"category\",\n        \"num_unique_values\": 37,\n        \"samples\": [\n          \"0\",\n          125.0,\n          100.0\n        ],\n        \"semantic_type\": \"\",\n        \"description\": \"\"\n      }\n    },\n    {\n      \"column\": \"Screen_Size_inches\",\n      \"properties\": {\n        \"dtype\": \"category\",\n        \"num_unique_values\": 37,\n        \"samples\": [\n          \"32\",\n          49.21259842519685,\n          39.37007874015748\n        ],\n        \"semantic_type\": \"\",\n        \"description\": \"\"\n      }\n    },\n    {\n      \"column\": \"Size_Category\",\n      \"properties\": {\n        \"dtype\": \"category\",\n        \"num_unique_values\": 8,\n        \"samples\": [\n          \"Large (43-50\\\")\",\n          \"Medium32-43\",\n          \"Medium (32-43\\\")\"\n        ],\n        \"semantic_type\": \"\",\n        \"description\": \"\"\n      }\n    },\n    {\n      \"column\": \"OS_Type\",\n      \"properties\": {\n        \"dtype\": \"category\",\n        \"num_unique_values\": 1,\n        \"samples\": [\n          \"Other\"\n        ],\n        \"semantic_type\": \"\",\n        \"description\": \"\"\n      }\n    },\n    {\n      \"column\": \"Brand\",\n      \"properties\": {\n        \"dtype\": \"category\",\n        \"num_unique_values\": 46,\n        \"samples\": [\n          \"Leema\"\n        ],\n        \"semantic_type\": \"\",\n        \"description\": \"\"\n      }\n    },\n    {\n      \"column\": \"label\",\n      \"properties\": {\n        \"dtype\": \"number\",\n        \"std\": 1.4596056420994787,\n        \"min\": 0.0,\n        \"max\": 5.0,\n        \"num_unique_values\": 6,\n        \"samples\": [\n          2.0\n        ],\n        \"semantic_type\": \"\",\n        \"description\": \"\"\n      }\n    },\n    {\n      \"column\": \"cluster\",\n      \"properties\": {\n        \"dtype\": \"int32\",\n        \"num_unique_values\": 4,\n        \"samples\": [\n          3\n        ],\n        \"semantic_type\": \"\",\n        \"description\": \"\"\n      }\n    }\n  ]\n}"
            }
          },
          "metadata": {},
          "execution_count": 78
        }
      ]
    },
    {
      "cell_type": "markdown",
      "source": [
        "### Supervised Learning"
      ],
      "metadata": {
        "id": "w5eyi0wjay7g"
      }
    },
    {
      "cell_type": "code",
      "source": [
        "target = 'Price_Category'\n"
      ],
      "metadata": {
        "id": "D0fMke2Na0UY"
      },
      "execution_count": 79,
      "outputs": []
    },
    {
      "cell_type": "code",
      "source": [
        "from sklearn.model_selection import train_test_split, GridSearchCV\n",
        "from sklearn.preprocessing import StandardScaler, LabelEncoder\n",
        "from sklearn.linear_model import LogisticRegression\n",
        "from sklearn.svm import SVC\n",
        "from sklearn.neighbors import KNeighborsClassifier\n",
        "from sklearn.ensemble import RandomForestClassifier\n",
        "from xgboost import XGBClassifier\n",
        "from sklearn.metrics import accuracy_score, f1_score, classification_report\n",
        "import warnings\n",
        "warnings.filterwarnings('ignore')\n"
      ],
      "metadata": {
        "id": "8Xf9QK3Ua5Gh"
      },
      "execution_count": 50,
      "outputs": []
    },
    {
      "cell_type": "code",
      "source": [
        "# Encode the target variable\n",
        "le = LabelEncoder()\n",
        "df['label'] = le.fit_transform(df[target])"
      ],
      "metadata": {
        "id": "XaOTfzUnbBS5"
      },
      "execution_count": 80,
      "outputs": []
    },
    {
      "cell_type": "code",
      "source": [
        "# Drop non-numeric or irrelevant columns\n",
        "X = df.select_dtypes(include=['int64', 'float64']).drop(columns=['label'], errors='ignore')\n",
        "y = df['label']"
      ],
      "metadata": {
        "id": "o-t_KzdsbDL7"
      },
      "execution_count": 81,
      "outputs": []
    },
    {
      "cell_type": "code",
      "source": [
        "# Handle missing values\n",
        "X = X.fillna(X.mean())"
      ],
      "metadata": {
        "id": "92eusL_3bEup"
      },
      "execution_count": 82,
      "outputs": []
    },
    {
      "cell_type": "code",
      "source": [
        "# Split into training and test sets\n",
        "X_train, X_test, y_train, y_test = train_test_split(X, y, test_size=0.2, random_state=42)"
      ],
      "metadata": {
        "id": "icypWz__bGvB"
      },
      "execution_count": 83,
      "outputs": []
    },
    {
      "cell_type": "code",
      "source": [
        "# Scale the features\n",
        "scaler = StandardScaler()\n",
        "X_train_scaled = scaler.fit_transform(X_train)\n",
        "X_test_scaled = scaler.transform(X_test)"
      ],
      "metadata": {
        "id": "oYy_8lJCbISj"
      },
      "execution_count": 84,
      "outputs": []
    },
    {
      "cell_type": "code",
      "source": [
        "models = {\n",
        "    'Logistic Regression': LogisticRegression(),\n",
        "    'SVM': SVC(),\n",
        "    'k-NN': KNeighborsClassifier(),\n",
        "    'Random Forest': RandomForestClassifier(),\n",
        "    'XGBoost': XGBClassifier(use_label_encoder=False, eval_metric='mlogloss')\n",
        "}\n",
        "\n",
        "results = {}\n",
        "\n",
        "for name, model in models.items():\n",
        "    model.fit(X_train_scaled, y_train)\n",
        "    y_pred = model.predict(X_test_scaled)\n",
        "    acc = accuracy_score(y_test, y_pred)\n",
        "    f1 = f1_score(y_test, y_pred, average='weighted')\n",
        "    results[name] = {'Accuracy': acc, 'F1 Score': f1}\n"
      ],
      "metadata": {
        "id": "FNEqWhw7bKlD"
      },
      "execution_count": 85,
      "outputs": []
    },
    {
      "cell_type": "code",
      "source": [
        "results_df = pd.DataFrame(results).T.sort_values(by='F1 Score', ascending=False)\n",
        "results_df"
      ],
      "metadata": {
        "colab": {
          "base_uri": "https://localhost:8080/",
          "height": 206
        },
        "id": "i5yQ788BeeRr",
        "outputId": "9b654885-d1e7-4668-e959-b6bd3dd3101a"
      },
      "execution_count": 86,
      "outputs": [
        {
          "output_type": "execute_result",
          "data": {
            "text/plain": [
              "                     Accuracy  F1 Score\n",
              "XGBoost              0.966667  0.963194\n",
              "Random Forest        0.883333  0.869227\n",
              "Logistic Regression  0.833333  0.796764\n",
              "SVM                  0.800000  0.763404\n",
              "k-NN                 0.783333  0.763056"
            ],
            "text/html": [
              "\n",
              "  <div id=\"df-6f3c4438-8477-451f-b389-0b30336f7c0c\" class=\"colab-df-container\">\n",
              "    <div>\n",
              "<style scoped>\n",
              "    .dataframe tbody tr th:only-of-type {\n",
              "        vertical-align: middle;\n",
              "    }\n",
              "\n",
              "    .dataframe tbody tr th {\n",
              "        vertical-align: top;\n",
              "    }\n",
              "\n",
              "    .dataframe thead th {\n",
              "        text-align: right;\n",
              "    }\n",
              "</style>\n",
              "<table border=\"1\" class=\"dataframe\">\n",
              "  <thead>\n",
              "    <tr style=\"text-align: right;\">\n",
              "      <th></th>\n",
              "      <th>Accuracy</th>\n",
              "      <th>F1 Score</th>\n",
              "    </tr>\n",
              "  </thead>\n",
              "  <tbody>\n",
              "    <tr>\n",
              "      <th>XGBoost</th>\n",
              "      <td>0.966667</td>\n",
              "      <td>0.963194</td>\n",
              "    </tr>\n",
              "    <tr>\n",
              "      <th>Random Forest</th>\n",
              "      <td>0.883333</td>\n",
              "      <td>0.869227</td>\n",
              "    </tr>\n",
              "    <tr>\n",
              "      <th>Logistic Regression</th>\n",
              "      <td>0.833333</td>\n",
              "      <td>0.796764</td>\n",
              "    </tr>\n",
              "    <tr>\n",
              "      <th>SVM</th>\n",
              "      <td>0.800000</td>\n",
              "      <td>0.763404</td>\n",
              "    </tr>\n",
              "    <tr>\n",
              "      <th>k-NN</th>\n",
              "      <td>0.783333</td>\n",
              "      <td>0.763056</td>\n",
              "    </tr>\n",
              "  </tbody>\n",
              "</table>\n",
              "</div>\n",
              "    <div class=\"colab-df-buttons\">\n",
              "\n",
              "  <div class=\"colab-df-container\">\n",
              "    <button class=\"colab-df-convert\" onclick=\"convertToInteractive('df-6f3c4438-8477-451f-b389-0b30336f7c0c')\"\n",
              "            title=\"Convert this dataframe to an interactive table.\"\n",
              "            style=\"display:none;\">\n",
              "\n",
              "  <svg xmlns=\"http://www.w3.org/2000/svg\" height=\"24px\" viewBox=\"0 -960 960 960\">\n",
              "    <path d=\"M120-120v-720h720v720H120Zm60-500h600v-160H180v160Zm220 220h160v-160H400v160Zm0 220h160v-160H400v160ZM180-400h160v-160H180v160Zm440 0h160v-160H620v160ZM180-180h160v-160H180v160Zm440 0h160v-160H620v160Z\"/>\n",
              "  </svg>\n",
              "    </button>\n",
              "\n",
              "  <style>\n",
              "    .colab-df-container {\n",
              "      display:flex;\n",
              "      gap: 12px;\n",
              "    }\n",
              "\n",
              "    .colab-df-convert {\n",
              "      background-color: #E8F0FE;\n",
              "      border: none;\n",
              "      border-radius: 50%;\n",
              "      cursor: pointer;\n",
              "      display: none;\n",
              "      fill: #1967D2;\n",
              "      height: 32px;\n",
              "      padding: 0 0 0 0;\n",
              "      width: 32px;\n",
              "    }\n",
              "\n",
              "    .colab-df-convert:hover {\n",
              "      background-color: #E2EBFA;\n",
              "      box-shadow: 0px 1px 2px rgba(60, 64, 67, 0.3), 0px 1px 3px 1px rgba(60, 64, 67, 0.15);\n",
              "      fill: #174EA6;\n",
              "    }\n",
              "\n",
              "    .colab-df-buttons div {\n",
              "      margin-bottom: 4px;\n",
              "    }\n",
              "\n",
              "    [theme=dark] .colab-df-convert {\n",
              "      background-color: #3B4455;\n",
              "      fill: #D2E3FC;\n",
              "    }\n",
              "\n",
              "    [theme=dark] .colab-df-convert:hover {\n",
              "      background-color: #434B5C;\n",
              "      box-shadow: 0px 1px 3px 1px rgba(0, 0, 0, 0.15);\n",
              "      filter: drop-shadow(0px 1px 2px rgba(0, 0, 0, 0.3));\n",
              "      fill: #FFFFFF;\n",
              "    }\n",
              "  </style>\n",
              "\n",
              "    <script>\n",
              "      const buttonEl =\n",
              "        document.querySelector('#df-6f3c4438-8477-451f-b389-0b30336f7c0c button.colab-df-convert');\n",
              "      buttonEl.style.display =\n",
              "        google.colab.kernel.accessAllowed ? 'block' : 'none';\n",
              "\n",
              "      async function convertToInteractive(key) {\n",
              "        const element = document.querySelector('#df-6f3c4438-8477-451f-b389-0b30336f7c0c');\n",
              "        const dataTable =\n",
              "          await google.colab.kernel.invokeFunction('convertToInteractive',\n",
              "                                                    [key], {});\n",
              "        if (!dataTable) return;\n",
              "\n",
              "        const docLinkHtml = 'Like what you see? Visit the ' +\n",
              "          '<a target=\"_blank\" href=https://colab.research.google.com/notebooks/data_table.ipynb>data table notebook</a>'\n",
              "          + ' to learn more about interactive tables.';\n",
              "        element.innerHTML = '';\n",
              "        dataTable['output_type'] = 'display_data';\n",
              "        await google.colab.output.renderOutput(dataTable, element);\n",
              "        const docLink = document.createElement('div');\n",
              "        docLink.innerHTML = docLinkHtml;\n",
              "        element.appendChild(docLink);\n",
              "      }\n",
              "    </script>\n",
              "  </div>\n",
              "\n",
              "\n",
              "<div id=\"df-af404da5-b67d-46a6-9a6b-4b7ad0b59ae5\">\n",
              "  <button class=\"colab-df-quickchart\" onclick=\"quickchart('df-af404da5-b67d-46a6-9a6b-4b7ad0b59ae5')\"\n",
              "            title=\"Suggest charts\"\n",
              "            style=\"display:none;\">\n",
              "\n",
              "<svg xmlns=\"http://www.w3.org/2000/svg\" height=\"24px\"viewBox=\"0 0 24 24\"\n",
              "     width=\"24px\">\n",
              "    <g>\n",
              "        <path d=\"M19 3H5c-1.1 0-2 .9-2 2v14c0 1.1.9 2 2 2h14c1.1 0 2-.9 2-2V5c0-1.1-.9-2-2-2zM9 17H7v-7h2v7zm4 0h-2V7h2v10zm4 0h-2v-4h2v4z\"/>\n",
              "    </g>\n",
              "</svg>\n",
              "  </button>\n",
              "\n",
              "<style>\n",
              "  .colab-df-quickchart {\n",
              "      --bg-color: #E8F0FE;\n",
              "      --fill-color: #1967D2;\n",
              "      --hover-bg-color: #E2EBFA;\n",
              "      --hover-fill-color: #174EA6;\n",
              "      --disabled-fill-color: #AAA;\n",
              "      --disabled-bg-color: #DDD;\n",
              "  }\n",
              "\n",
              "  [theme=dark] .colab-df-quickchart {\n",
              "      --bg-color: #3B4455;\n",
              "      --fill-color: #D2E3FC;\n",
              "      --hover-bg-color: #434B5C;\n",
              "      --hover-fill-color: #FFFFFF;\n",
              "      --disabled-bg-color: #3B4455;\n",
              "      --disabled-fill-color: #666;\n",
              "  }\n",
              "\n",
              "  .colab-df-quickchart {\n",
              "    background-color: var(--bg-color);\n",
              "    border: none;\n",
              "    border-radius: 50%;\n",
              "    cursor: pointer;\n",
              "    display: none;\n",
              "    fill: var(--fill-color);\n",
              "    height: 32px;\n",
              "    padding: 0;\n",
              "    width: 32px;\n",
              "  }\n",
              "\n",
              "  .colab-df-quickchart:hover {\n",
              "    background-color: var(--hover-bg-color);\n",
              "    box-shadow: 0 1px 2px rgba(60, 64, 67, 0.3), 0 1px 3px 1px rgba(60, 64, 67, 0.15);\n",
              "    fill: var(--button-hover-fill-color);\n",
              "  }\n",
              "\n",
              "  .colab-df-quickchart-complete:disabled,\n",
              "  .colab-df-quickchart-complete:disabled:hover {\n",
              "    background-color: var(--disabled-bg-color);\n",
              "    fill: var(--disabled-fill-color);\n",
              "    box-shadow: none;\n",
              "  }\n",
              "\n",
              "  .colab-df-spinner {\n",
              "    border: 2px solid var(--fill-color);\n",
              "    border-color: transparent;\n",
              "    border-bottom-color: var(--fill-color);\n",
              "    animation:\n",
              "      spin 1s steps(1) infinite;\n",
              "  }\n",
              "\n",
              "  @keyframes spin {\n",
              "    0% {\n",
              "      border-color: transparent;\n",
              "      border-bottom-color: var(--fill-color);\n",
              "      border-left-color: var(--fill-color);\n",
              "    }\n",
              "    20% {\n",
              "      border-color: transparent;\n",
              "      border-left-color: var(--fill-color);\n",
              "      border-top-color: var(--fill-color);\n",
              "    }\n",
              "    30% {\n",
              "      border-color: transparent;\n",
              "      border-left-color: var(--fill-color);\n",
              "      border-top-color: var(--fill-color);\n",
              "      border-right-color: var(--fill-color);\n",
              "    }\n",
              "    40% {\n",
              "      border-color: transparent;\n",
              "      border-right-color: var(--fill-color);\n",
              "      border-top-color: var(--fill-color);\n",
              "    }\n",
              "    60% {\n",
              "      border-color: transparent;\n",
              "      border-right-color: var(--fill-color);\n",
              "    }\n",
              "    80% {\n",
              "      border-color: transparent;\n",
              "      border-right-color: var(--fill-color);\n",
              "      border-bottom-color: var(--fill-color);\n",
              "    }\n",
              "    90% {\n",
              "      border-color: transparent;\n",
              "      border-bottom-color: var(--fill-color);\n",
              "    }\n",
              "  }\n",
              "</style>\n",
              "\n",
              "  <script>\n",
              "    async function quickchart(key) {\n",
              "      const quickchartButtonEl =\n",
              "        document.querySelector('#' + key + ' button');\n",
              "      quickchartButtonEl.disabled = true;  // To prevent multiple clicks.\n",
              "      quickchartButtonEl.classList.add('colab-df-spinner');\n",
              "      try {\n",
              "        const charts = await google.colab.kernel.invokeFunction(\n",
              "            'suggestCharts', [key], {});\n",
              "      } catch (error) {\n",
              "        console.error('Error during call to suggestCharts:', error);\n",
              "      }\n",
              "      quickchartButtonEl.classList.remove('colab-df-spinner');\n",
              "      quickchartButtonEl.classList.add('colab-df-quickchart-complete');\n",
              "    }\n",
              "    (() => {\n",
              "      let quickchartButtonEl =\n",
              "        document.querySelector('#df-af404da5-b67d-46a6-9a6b-4b7ad0b59ae5 button');\n",
              "      quickchartButtonEl.style.display =\n",
              "        google.colab.kernel.accessAllowed ? 'block' : 'none';\n",
              "    })();\n",
              "  </script>\n",
              "</div>\n",
              "\n",
              "  <div id=\"id_87ef41f7-c9dd-4f61-a8f7-2d0b7df124a2\">\n",
              "    <style>\n",
              "      .colab-df-generate {\n",
              "        background-color: #E8F0FE;\n",
              "        border: none;\n",
              "        border-radius: 50%;\n",
              "        cursor: pointer;\n",
              "        display: none;\n",
              "        fill: #1967D2;\n",
              "        height: 32px;\n",
              "        padding: 0 0 0 0;\n",
              "        width: 32px;\n",
              "      }\n",
              "\n",
              "      .colab-df-generate:hover {\n",
              "        background-color: #E2EBFA;\n",
              "        box-shadow: 0px 1px 2px rgba(60, 64, 67, 0.3), 0px 1px 3px 1px rgba(60, 64, 67, 0.15);\n",
              "        fill: #174EA6;\n",
              "      }\n",
              "\n",
              "      [theme=dark] .colab-df-generate {\n",
              "        background-color: #3B4455;\n",
              "        fill: #D2E3FC;\n",
              "      }\n",
              "\n",
              "      [theme=dark] .colab-df-generate:hover {\n",
              "        background-color: #434B5C;\n",
              "        box-shadow: 0px 1px 3px 1px rgba(0, 0, 0, 0.15);\n",
              "        filter: drop-shadow(0px 1px 2px rgba(0, 0, 0, 0.3));\n",
              "        fill: #FFFFFF;\n",
              "      }\n",
              "    </style>\n",
              "    <button class=\"colab-df-generate\" onclick=\"generateWithVariable('results_df')\"\n",
              "            title=\"Generate code using this dataframe.\"\n",
              "            style=\"display:none;\">\n",
              "\n",
              "  <svg xmlns=\"http://www.w3.org/2000/svg\" height=\"24px\"viewBox=\"0 0 24 24\"\n",
              "       width=\"24px\">\n",
              "    <path d=\"M7,19H8.4L18.45,9,17,7.55,7,17.6ZM5,21V16.75L18.45,3.32a2,2,0,0,1,2.83,0l1.4,1.43a1.91,1.91,0,0,1,.58,1.4,1.91,1.91,0,0,1-.58,1.4L9.25,21ZM18.45,9,17,7.55Zm-12,3A5.31,5.31,0,0,0,4.9,8.1,5.31,5.31,0,0,0,1,6.5,5.31,5.31,0,0,0,4.9,4.9,5.31,5.31,0,0,0,6.5,1,5.31,5.31,0,0,0,8.1,4.9,5.31,5.31,0,0,0,12,6.5,5.46,5.46,0,0,0,6.5,12Z\"/>\n",
              "  </svg>\n",
              "    </button>\n",
              "    <script>\n",
              "      (() => {\n",
              "      const buttonEl =\n",
              "        document.querySelector('#id_87ef41f7-c9dd-4f61-a8f7-2d0b7df124a2 button.colab-df-generate');\n",
              "      buttonEl.style.display =\n",
              "        google.colab.kernel.accessAllowed ? 'block' : 'none';\n",
              "\n",
              "      buttonEl.onclick = () => {\n",
              "        google.colab.notebook.generateWithVariable('results_df');\n",
              "      }\n",
              "      })();\n",
              "    </script>\n",
              "  </div>\n",
              "\n",
              "    </div>\n",
              "  </div>\n"
            ],
            "application/vnd.google.colaboratory.intrinsic+json": {
              "type": "dataframe",
              "variable_name": "results_df",
              "summary": "{\n  \"name\": \"results_df\",\n  \"rows\": 5,\n  \"fields\": [\n    {\n      \"column\": \"Accuracy\",\n      \"properties\": {\n        \"dtype\": \"number\",\n        \"std\": 0.07397447007057381,\n        \"min\": 0.7833333333333333,\n        \"max\": 0.9666666666666667,\n        \"num_unique_values\": 5,\n        \"samples\": [\n          0.8833333333333333,\n          0.7833333333333333,\n          0.8333333333333334\n        ],\n        \"semantic_type\": \"\",\n        \"description\": \"\"\n      }\n    },\n    {\n      \"column\": \"F1 Score\",\n      \"properties\": {\n        \"dtype\": \"number\",\n        \"std\": 0.08557800118184283,\n        \"min\": 0.7630555555555555,\n        \"max\": 0.9631944444444444,\n        \"num_unique_values\": 5,\n        \"samples\": [\n          0.8692265795206972,\n          0.7630555555555555,\n          0.7967637180645311\n        ],\n        \"semantic_type\": \"\",\n        \"description\": \"\"\n      }\n    }\n  ]\n}"
            }
          },
          "metadata": {},
          "execution_count": 86
        }
      ]
    },
    {
      "cell_type": "code",
      "source": [
        "param_grid = {\n",
        "    'n_estimators': [50, 100, 150],\n",
        "    'max_depth': [None, 10, 20],\n",
        "    'min_samples_split': [2, 5],\n",
        "}\n",
        "\n",
        "grid_search = GridSearchCV(RandomForestClassifier(), param_grid, cv=3, scoring='accuracy')\n",
        "grid_search.fit(X_train_scaled, y_train)\n",
        "\n",
        "print(\"Best Parameters:\", grid_search.best_params_)\n",
        "print(\"Best Score:\", grid_search.best_score_)\n"
      ],
      "metadata": {
        "colab": {
          "base_uri": "https://localhost:8080/"
        },
        "id": "z66993ISepnT",
        "outputId": "228c0e9d-2b45-4857-9b04-18e35a87cc2a"
      },
      "execution_count": 87,
      "outputs": [
        {
          "output_type": "stream",
          "name": "stdout",
          "text": [
            "Best Parameters: {'max_depth': 10, 'min_samples_split': 2, 'n_estimators': 50}\n",
            "Best Score: 0.9578059071729957\n"
          ]
        }
      ]
    }
  ]
}